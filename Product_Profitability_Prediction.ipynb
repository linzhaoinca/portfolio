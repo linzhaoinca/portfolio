{
 "cells": [
  {
   "cell_type": "markdown",
   "metadata": {},
   "source": [
    "# New Product Profitability Prediction\n",
    "#### Predicting sales of four different product types: PC, Laptops, Netbooks and Smartphones"
   ]
  },
  {
   "cell_type": "markdown",
   "metadata": {},
   "source": [
    "# Background Info "
   ]
  },
  {
   "cell_type": "markdown",
   "metadata": {},
   "source": [
    "The sales team of Blackwell Electronics has consulted with some concerns about ongoing product sales in one of our stores. Specifically, they have been tracking the sales performance of specific product types and would like us to do a sales prediction analysis. They'd like us to include the ‘product type’ attribute in our predictions to better understand how specific product types perform against each other. They have asked our team to analyze historical sales data and then make sales volume predictions for a list of new product types. This will help the sales team better understand how types of products might impact sales across the enterprise."
   ]
  },
  {
   "cell_type": "markdown",
   "metadata": {},
   "source": [
    "# Objectives\n",
    "* Predicting sales of four different product types. \n",
    "* Assessing the impact services reviews and customer reviews have on sales of different product types."
   ]
  },
  {
   "cell_type": "markdown",
   "metadata": {},
   "source": [
    "# Dataset Info\n",
    "* We were given two datasets, existing products and new products. \n",
    "* Existing_products.cvs file contains product attributes of 80 products. This file will be used for analyzing and training propose.\n",
    "* New_products.csv file contains 24 new products that we will make the sales volume and profitabiltiy prediction on. \n",
    "* Product Attributes' include:\n",
    "    * Product Type\n",
    "    * Product Number\n",
    "    * Price\n",
    "    * 1-5 Star Reviews\n",
    "    * Customer Reviews (Positive/Negative)\n",
    "    * Recommend Product & BestSellers Rank\n",
    "    * Product Dimensions\n",
    "    * Profit Margin\n",
    "    * Sales Volume"
   ]
  },
  {
   "cell_type": "markdown",
   "metadata": {},
   "source": [
    "# Data Proprocessing\n",
    "### Dummify the Data\n",
    "* Most data will contain a mixture of numeric and nominal data so we need to understand how to incorporate both when it comes to developing regression models and making predictions. \n",
    "* Categorical variables may be used directly as predictor or predicted variables in a multiple regression model as long as they've been converted to binary values. In order to pre-process the sales data as needed we first need to convert all factor or 'chr' classes to binary features that contain ‘0’ and ‘1’ classes. We will use get_dummies() function from pandas library to achieve this."
   ]
  },
  {
   "cell_type": "markdown",
   "metadata": {},
   "source": [
    "### Check for Correlation\n",
    "* Correlation is a measure of the relationship between two or more features or variables.In this problem, we were tasked with ascertaining if some specific features impact on weekly sales volume. We will use heatmap and correlation matrix to find it out."
   ]
  },
  {
   "cell_type": "markdown",
   "metadata": {},
   "source": [
    "### Removing Missing Value\n",
    "* We use isnull().sum() function to check and count on missing values. Missing data is represented by \"NA\". There are many methods of addressing missing data, we chose to drop the variable from the analysis because it counts almost 20% of the featured column. "
   ]
  },
  {
   "cell_type": "markdown",
   "metadata": {},
   "source": [
    "####  Import Libraries and Upload Dataset"
   ]
  },
  {
   "cell_type": "code",
   "execution_count": 2,
   "metadata": {},
   "outputs": [],
   "source": [
    "import numpy as np\n",
    "import pandas as pd\n",
    "import scipy\n",
    "from math import sqrt\n",
    "import matplotlib.pyplot as plt\n",
    "from pandas import Series, DataFrame\n",
    "import matplotlib as mpl\n",
    "import seaborn as sns \n",
    "from sklearn.metrics import mean_squared_error\n",
    "from sklearn.metrics import r2_score\n",
    "\n",
    "# Show output of plotting directly below the code \n",
    "%matplotlib inline\n",
    "\n",
    "# Upload Dataset\n",
    "existing_products = pd.read_csv('existingproductattributes2017.csv')"
   ]
  },
  {
   "cell_type": "markdown",
   "metadata": {},
   "source": [
    "#### Initial Exploration"
   ]
  },
  {
   "cell_type": "code",
   "execution_count": 3,
   "metadata": {},
   "outputs": [
    {
     "data": {
      "text/html": [
       "<div>\n",
       "<style scoped>\n",
       "    .dataframe tbody tr th:only-of-type {\n",
       "        vertical-align: middle;\n",
       "    }\n",
       "\n",
       "    .dataframe tbody tr th {\n",
       "        vertical-align: top;\n",
       "    }\n",
       "\n",
       "    .dataframe thead th {\n",
       "        text-align: right;\n",
       "    }\n",
       "</style>\n",
       "<table border=\"1\" class=\"dataframe\">\n",
       "  <thead>\n",
       "    <tr style=\"text-align: right;\">\n",
       "      <th></th>\n",
       "      <th>ProductType</th>\n",
       "      <th>ProductNum</th>\n",
       "      <th>Price</th>\n",
       "      <th>x5StarReviews</th>\n",
       "      <th>x4StarReviews</th>\n",
       "      <th>x3StarReviews</th>\n",
       "      <th>x2StarReviews</th>\n",
       "      <th>x1StarReviews</th>\n",
       "      <th>PositiveServiceReview</th>\n",
       "      <th>NegativeServiceReview</th>\n",
       "      <th>Recommendproduct</th>\n",
       "      <th>BestSellersRank</th>\n",
       "      <th>ShippingWeight</th>\n",
       "      <th>ProductDepth</th>\n",
       "      <th>ProductWidth</th>\n",
       "      <th>ProductHeight</th>\n",
       "      <th>ProfitMargin</th>\n",
       "      <th>Volume</th>\n",
       "    </tr>\n",
       "  </thead>\n",
       "  <tbody>\n",
       "    <tr>\n",
       "      <td>0</td>\n",
       "      <td>PC</td>\n",
       "      <td>101</td>\n",
       "      <td>949.00</td>\n",
       "      <td>3</td>\n",
       "      <td>3</td>\n",
       "      <td>2</td>\n",
       "      <td>0</td>\n",
       "      <td>0</td>\n",
       "      <td>2</td>\n",
       "      <td>0</td>\n",
       "      <td>0.9</td>\n",
       "      <td>1967.0</td>\n",
       "      <td>25.8</td>\n",
       "      <td>23.94</td>\n",
       "      <td>6.62</td>\n",
       "      <td>16.89</td>\n",
       "      <td>0.15</td>\n",
       "      <td>12</td>\n",
       "    </tr>\n",
       "    <tr>\n",
       "      <td>1</td>\n",
       "      <td>PC</td>\n",
       "      <td>102</td>\n",
       "      <td>2249.99</td>\n",
       "      <td>2</td>\n",
       "      <td>1</td>\n",
       "      <td>0</td>\n",
       "      <td>0</td>\n",
       "      <td>0</td>\n",
       "      <td>1</td>\n",
       "      <td>0</td>\n",
       "      <td>0.9</td>\n",
       "      <td>4806.0</td>\n",
       "      <td>50.0</td>\n",
       "      <td>35.00</td>\n",
       "      <td>31.75</td>\n",
       "      <td>19.00</td>\n",
       "      <td>0.25</td>\n",
       "      <td>8</td>\n",
       "    </tr>\n",
       "    <tr>\n",
       "      <td>2</td>\n",
       "      <td>PC</td>\n",
       "      <td>103</td>\n",
       "      <td>399.00</td>\n",
       "      <td>3</td>\n",
       "      <td>0</td>\n",
       "      <td>0</td>\n",
       "      <td>0</td>\n",
       "      <td>0</td>\n",
       "      <td>1</td>\n",
       "      <td>0</td>\n",
       "      <td>0.9</td>\n",
       "      <td>12076.0</td>\n",
       "      <td>17.4</td>\n",
       "      <td>10.50</td>\n",
       "      <td>8.30</td>\n",
       "      <td>10.20</td>\n",
       "      <td>0.08</td>\n",
       "      <td>12</td>\n",
       "    </tr>\n",
       "    <tr>\n",
       "      <td>3</td>\n",
       "      <td>Laptop</td>\n",
       "      <td>104</td>\n",
       "      <td>409.99</td>\n",
       "      <td>49</td>\n",
       "      <td>19</td>\n",
       "      <td>8</td>\n",
       "      <td>3</td>\n",
       "      <td>9</td>\n",
       "      <td>7</td>\n",
       "      <td>8</td>\n",
       "      <td>0.8</td>\n",
       "      <td>109.0</td>\n",
       "      <td>5.7</td>\n",
       "      <td>15.00</td>\n",
       "      <td>9.90</td>\n",
       "      <td>1.30</td>\n",
       "      <td>0.08</td>\n",
       "      <td>196</td>\n",
       "    </tr>\n",
       "    <tr>\n",
       "      <td>4</td>\n",
       "      <td>Laptop</td>\n",
       "      <td>105</td>\n",
       "      <td>1079.99</td>\n",
       "      <td>58</td>\n",
       "      <td>31</td>\n",
       "      <td>11</td>\n",
       "      <td>7</td>\n",
       "      <td>36</td>\n",
       "      <td>7</td>\n",
       "      <td>20</td>\n",
       "      <td>0.7</td>\n",
       "      <td>268.0</td>\n",
       "      <td>7.0</td>\n",
       "      <td>12.90</td>\n",
       "      <td>0.30</td>\n",
       "      <td>8.90</td>\n",
       "      <td>0.09</td>\n",
       "      <td>232</td>\n",
       "    </tr>\n",
       "  </tbody>\n",
       "</table>\n",
       "</div>"
      ],
      "text/plain": [
       "  ProductType  ProductNum    Price  x5StarReviews  x4StarReviews  \\\n",
       "0          PC         101   949.00              3              3   \n",
       "1          PC         102  2249.99              2              1   \n",
       "2          PC         103   399.00              3              0   \n",
       "3      Laptop         104   409.99             49             19   \n",
       "4      Laptop         105  1079.99             58             31   \n",
       "\n",
       "   x3StarReviews  x2StarReviews  x1StarReviews  PositiveServiceReview  \\\n",
       "0              2              0              0                      2   \n",
       "1              0              0              0                      1   \n",
       "2              0              0              0                      1   \n",
       "3              8              3              9                      7   \n",
       "4             11              7             36                      7   \n",
       "\n",
       "   NegativeServiceReview  Recommendproduct  BestSellersRank  ShippingWeight  \\\n",
       "0                      0               0.9           1967.0            25.8   \n",
       "1                      0               0.9           4806.0            50.0   \n",
       "2                      0               0.9          12076.0            17.4   \n",
       "3                      8               0.8            109.0             5.7   \n",
       "4                     20               0.7            268.0             7.0   \n",
       "\n",
       "   ProductDepth  ProductWidth  ProductHeight  ProfitMargin  Volume  \n",
       "0         23.94          6.62          16.89          0.15      12  \n",
       "1         35.00         31.75          19.00          0.25       8  \n",
       "2         10.50          8.30          10.20          0.08      12  \n",
       "3         15.00          9.90           1.30          0.08     196  \n",
       "4         12.90          0.30           8.90          0.09     232  "
      ]
     },
     "execution_count": 3,
     "metadata": {},
     "output_type": "execute_result"
    }
   ],
   "source": [
    "# Check the first 5 rows of the data frame\n",
    "existing_products.head()"
   ]
  },
  {
   "cell_type": "code",
   "execution_count": 4,
   "metadata": {},
   "outputs": [
    {
     "name": "stdout",
     "output_type": "stream",
     "text": [
      "<class 'pandas.core.frame.DataFrame'>\n",
      "RangeIndex: 80 entries, 0 to 79\n",
      "Data columns (total 18 columns):\n",
      "ProductType              80 non-null object\n",
      "ProductNum               80 non-null int64\n",
      "Price                    80 non-null float64\n",
      "x5StarReviews            80 non-null int64\n",
      "x4StarReviews            80 non-null int64\n",
      "x3StarReviews            80 non-null int64\n",
      "x2StarReviews            80 non-null int64\n",
      "x1StarReviews            80 non-null int64\n",
      "PositiveServiceReview    80 non-null int64\n",
      "NegativeServiceReview    80 non-null int64\n",
      "Recommendproduct         80 non-null float64\n",
      "BestSellersRank          65 non-null float64\n",
      "ShippingWeight           80 non-null float64\n",
      "ProductDepth             80 non-null float64\n",
      "ProductWidth             80 non-null float64\n",
      "ProductHeight            80 non-null float64\n",
      "ProfitMargin             80 non-null float64\n",
      "Volume                   80 non-null int64\n",
      "dtypes: float64(8), int64(9), object(1)\n",
      "memory usage: 11.4+ KB\n"
     ]
    }
   ],
   "source": [
    "# To check the data type of each variable to make sure all data are numerical\n",
    "existing_products.info()"
   ]
  },
  {
   "cell_type": "markdown",
   "metadata": {},
   "source": [
    "#### Dummify the ProductType Variable\n",
    "* As we can see the data type for 'ProductType' is object. We need numerical data for all columns. Therefore, we need to convert this category data into dummy variables for algorithm to run properly. "
   ]
  },
  {
   "cell_type": "code",
   "execution_count": 5,
   "metadata": {},
   "outputs": [
    {
     "data": {
      "text/html": [
       "<div>\n",
       "<style scoped>\n",
       "    .dataframe tbody tr th:only-of-type {\n",
       "        vertical-align: middle;\n",
       "    }\n",
       "\n",
       "    .dataframe tbody tr th {\n",
       "        vertical-align: top;\n",
       "    }\n",
       "\n",
       "    .dataframe thead th {\n",
       "        text-align: right;\n",
       "    }\n",
       "</style>\n",
       "<table border=\"1\" class=\"dataframe\">\n",
       "  <thead>\n",
       "    <tr style=\"text-align: right;\">\n",
       "      <th></th>\n",
       "      <th>Accessories</th>\n",
       "      <th>Display</th>\n",
       "      <th>ExtendedWarranty</th>\n",
       "      <th>GameConsole</th>\n",
       "      <th>Laptop</th>\n",
       "      <th>Netbook</th>\n",
       "      <th>PC</th>\n",
       "      <th>Printer</th>\n",
       "      <th>PrinterSupplies</th>\n",
       "      <th>Smartphone</th>\n",
       "      <th>Software</th>\n",
       "      <th>Tablet</th>\n",
       "    </tr>\n",
       "  </thead>\n",
       "  <tbody>\n",
       "    <tr>\n",
       "      <td>0</td>\n",
       "      <td>0</td>\n",
       "      <td>0</td>\n",
       "      <td>0</td>\n",
       "      <td>0</td>\n",
       "      <td>0</td>\n",
       "      <td>0</td>\n",
       "      <td>1</td>\n",
       "      <td>0</td>\n",
       "      <td>0</td>\n",
       "      <td>0</td>\n",
       "      <td>0</td>\n",
       "      <td>0</td>\n",
       "    </tr>\n",
       "    <tr>\n",
       "      <td>1</td>\n",
       "      <td>0</td>\n",
       "      <td>0</td>\n",
       "      <td>0</td>\n",
       "      <td>0</td>\n",
       "      <td>0</td>\n",
       "      <td>0</td>\n",
       "      <td>1</td>\n",
       "      <td>0</td>\n",
       "      <td>0</td>\n",
       "      <td>0</td>\n",
       "      <td>0</td>\n",
       "      <td>0</td>\n",
       "    </tr>\n",
       "    <tr>\n",
       "      <td>2</td>\n",
       "      <td>0</td>\n",
       "      <td>0</td>\n",
       "      <td>0</td>\n",
       "      <td>0</td>\n",
       "      <td>0</td>\n",
       "      <td>0</td>\n",
       "      <td>1</td>\n",
       "      <td>0</td>\n",
       "      <td>0</td>\n",
       "      <td>0</td>\n",
       "      <td>0</td>\n",
       "      <td>0</td>\n",
       "    </tr>\n",
       "    <tr>\n",
       "      <td>3</td>\n",
       "      <td>0</td>\n",
       "      <td>0</td>\n",
       "      <td>0</td>\n",
       "      <td>0</td>\n",
       "      <td>1</td>\n",
       "      <td>0</td>\n",
       "      <td>0</td>\n",
       "      <td>0</td>\n",
       "      <td>0</td>\n",
       "      <td>0</td>\n",
       "      <td>0</td>\n",
       "      <td>0</td>\n",
       "    </tr>\n",
       "    <tr>\n",
       "      <td>4</td>\n",
       "      <td>0</td>\n",
       "      <td>0</td>\n",
       "      <td>0</td>\n",
       "      <td>0</td>\n",
       "      <td>1</td>\n",
       "      <td>0</td>\n",
       "      <td>0</td>\n",
       "      <td>0</td>\n",
       "      <td>0</td>\n",
       "      <td>0</td>\n",
       "      <td>0</td>\n",
       "      <td>0</td>\n",
       "    </tr>\n",
       "  </tbody>\n",
       "</table>\n",
       "</div>"
      ],
      "text/plain": [
       "   Accessories  Display  ExtendedWarranty  GameConsole  Laptop  Netbook  PC  \\\n",
       "0            0        0                 0            0       0        0   1   \n",
       "1            0        0                 0            0       0        0   1   \n",
       "2            0        0                 0            0       0        0   1   \n",
       "3            0        0                 0            0       1        0   0   \n",
       "4            0        0                 0            0       1        0   0   \n",
       "\n",
       "   Printer  PrinterSupplies  Smartphone  Software  Tablet  \n",
       "0        0                0           0         0       0  \n",
       "1        0                0           0         0       0  \n",
       "2        0                0           0         0       0  \n",
       "3        0                0           0         0       0  \n",
       "4        0                0           0         0       0  "
      ]
     },
     "execution_count": 5,
     "metadata": {},
     "output_type": "execute_result"
    }
   ],
   "source": [
    "# Use df.get_dummies() to convert the data type\n",
    "dummy_products = pd.get_dummies(existing_products['ProductType'])\n",
    "dummy_products.head()"
   ]
  },
  {
   "cell_type": "code",
   "execution_count": 6,
   "metadata": {},
   "outputs": [
    {
     "name": "stdout",
     "output_type": "stream",
     "text": [
      "<class 'pandas.core.frame.DataFrame'>\n",
      "RangeIndex: 80 entries, 0 to 79\n",
      "Data columns (total 12 columns):\n",
      "Accessories         80 non-null uint8\n",
      "Display             80 non-null uint8\n",
      "ExtendedWarranty    80 non-null uint8\n",
      "GameConsole         80 non-null uint8\n",
      "Laptop              80 non-null uint8\n",
      "Netbook             80 non-null uint8\n",
      "PC                  80 non-null uint8\n",
      "Printer             80 non-null uint8\n",
      "PrinterSupplies     80 non-null uint8\n",
      "Smartphone          80 non-null uint8\n",
      "Software            80 non-null uint8\n",
      "Tablet              80 non-null uint8\n",
      "dtypes: uint8(12)\n",
      "memory usage: 1.1 KB\n"
     ]
    }
   ],
   "source": [
    "# To check the data type of after 'dummyify'\n",
    "dummy_products.info()"
   ]
  },
  {
   "cell_type": "code",
   "execution_count": 7,
   "metadata": {},
   "outputs": [],
   "source": [
    "# Concatenate the New 'Dummy Variables' to the Dataframe\n",
    "existing_products = pd.concat([existing_products, dummy_products], axis=1)"
   ]
  },
  {
   "cell_type": "code",
   "execution_count": 8,
   "metadata": {},
   "outputs": [],
   "source": [
    "# Delete 'ProductType' Variable\n",
    "existing_products=existing_products.drop('ProductType', axis=1)"
   ]
  },
  {
   "cell_type": "code",
   "execution_count": 9,
   "metadata": {},
   "outputs": [
    {
     "data": {
      "text/plain": [
       "Index(['ProductNum', 'Price', 'x5StarReviews', 'x4StarReviews',\n",
       "       'x3StarReviews', 'x2StarReviews', 'x1StarReviews',\n",
       "       'PositiveServiceReview', 'NegativeServiceReview', 'Recommendproduct',\n",
       "       'BestSellersRank', 'ShippingWeight', 'ProductDepth', 'ProductWidth',\n",
       "       'ProductHeight', 'ProfitMargin', 'Volume', 'Accessories', 'Display',\n",
       "       'ExtendedWarranty', 'GameConsole', 'Laptop', 'Netbook', 'PC', 'Printer',\n",
       "       'PrinterSupplies', 'Smartphone', 'Software', 'Tablet'],\n",
       "      dtype='object')"
      ]
     },
     "execution_count": 9,
     "metadata": {},
     "output_type": "execute_result"
    }
   ],
   "source": [
    "# View the Dataset Columns\n",
    "existing_products.columns"
   ]
  },
  {
   "cell_type": "markdown",
   "metadata": {},
   "source": [
    "#### Check and Delete Missing Values"
   ]
  },
  {
   "cell_type": "code",
   "execution_count": 10,
   "metadata": {},
   "outputs": [
    {
     "data": {
      "text/plain": [
       "ProductNum                0\n",
       "Price                     0\n",
       "x5StarReviews             0\n",
       "x4StarReviews             0\n",
       "x3StarReviews             0\n",
       "x2StarReviews             0\n",
       "x1StarReviews             0\n",
       "PositiveServiceReview     0\n",
       "NegativeServiceReview     0\n",
       "Recommendproduct          0\n",
       "BestSellersRank          15\n",
       "ShippingWeight            0\n",
       "ProductDepth              0\n",
       "ProductWidth              0\n",
       "ProductHeight             0\n",
       "ProfitMargin              0\n",
       "Volume                    0\n",
       "Accessories               0\n",
       "Display                   0\n",
       "ExtendedWarranty          0\n",
       "GameConsole               0\n",
       "Laptop                    0\n",
       "Netbook                   0\n",
       "PC                        0\n",
       "Printer                   0\n",
       "PrinterSupplies           0\n",
       "Smartphone                0\n",
       "Software                  0\n",
       "Tablet                    0\n",
       "dtype: int64"
      ]
     },
     "execution_count": 10,
     "metadata": {},
     "output_type": "execute_result"
    }
   ],
   "source": [
    "# Checking Missing Value\n",
    "existing_products.isnull().sum()"
   ]
  },
  {
   "cell_type": "markdown",
   "metadata": {},
   "source": [
    "* The variable 'BestSellerRank' contains 15 out of 80 missing values, which counts for roughly 20% of that column. As we mentioned above, we decide to drop this attribute."
   ]
  },
  {
   "cell_type": "code",
   "execution_count": 11,
   "metadata": {},
   "outputs": [],
   "source": [
    "# Delete 'BestSellerRank' Variable\n",
    "existing_products=existing_products.drop('BestSellersRank', axis=1)"
   ]
  },
  {
   "cell_type": "markdown",
   "metadata": {},
   "source": [
    "#### Initial Plotting"
   ]
  },
  {
   "cell_type": "markdown",
   "metadata": {},
   "source": [
    "* As we can see from the above plot, both Positive Service Review and Negative Service Review displayed normal distribution, without any skewed data. However, we could not draw anything by this plot."
   ]
  },
  {
   "cell_type": "code",
   "execution_count": 12,
   "metadata": {},
   "outputs": [
    {
     "data": {
      "image/png": "[encoded data removed]",
      "text/plain": [
       "<Figure size 864x360 with 3 Axes>"
      ]
     },
     "metadata": {
      "needs_background": "light"
     },
     "output_type": "display_data"
    }
   ],
   "source": [
    "StarReviewPlot = sns.pairplot(x_vars=['x5StarReviews','x3StarReviews','x1StarReviews'], \n",
    "                              y_vars='Volume', data=existing_products, height=5, aspect=0.8, kind='reg')"
   ]
  },
  {
   "cell_type": "markdown",
   "metadata": {},
   "source": [
    "* The first plot with 5 star reviews shows strong positive relationship (positive review increases as the sales volume goes up). 3 star review shows slight positive relationship, and 1 star review does not show any relationships (almost a flat line). Next, let's build a confusion matrix to get a deeper investigation."
   ]
  },
  {
   "cell_type": "markdown",
   "metadata": {},
   "source": [
    "#### Correlation Matrix\n",
    "* is used to find out the collinearity or check for relationships between features. Calculating correlation is a vital part of all Data Science projects and we can achieve it by using pandas df.corr() function.\n",
    "* Correlation values fall within -1 and 1 with variables have string positive relationships having correlation values closer to 1 and strong negative relationships with values closer to -1."
   ]
  },
  {
   "cell_type": "code",
   "execution_count": 13,
   "metadata": {},
   "outputs": [
    {
     "name": "stdout",
     "output_type": "stream",
     "text": [
      "                       ProductNum     Price  x5StarReviews  x4StarReviews  \\\n",
      "ProductNum               1.000000 -0.039749       0.166121       0.119401   \n",
      "Price                   -0.039749  1.000000      -0.142344      -0.165284   \n",
      "x5StarReviews            0.166121 -0.142344       1.000000       0.879006   \n",
      "x4StarReviews            0.119401 -0.165284       0.879006       1.000000   \n",
      "x3StarReviews            0.090201 -0.150538       0.763373       0.937214   \n",
      "x2StarReviews           -0.004533 -0.110681       0.487279       0.679006   \n",
      "x1StarReviews           -0.063064 -0.083957       0.255024       0.444942   \n",
      "PositiveServiceReview   -0.057748 -0.142143       0.622260       0.483421   \n",
      "NegativeServiceReview   -0.019427 -0.060790       0.309419       0.533222   \n",
      "Recommendproduct         0.003886  0.068930       0.169541       0.071415   \n",
      "ShippingWeight           0.081239  0.416777      -0.188024      -0.194914   \n",
      "ProductDepth             0.036188  0.010968       0.066105      -0.031721   \n",
      "ProductWidth             0.126793  0.382398      -0.143437      -0.000648   \n",
      "ProductHeight           -0.046220  0.294161      -0.160004      -0.085856   \n",
      "ProfitMargin             0.039715  0.099669      -0.013449      -0.146654   \n",
      "Volume                   0.166121 -0.142344       1.000000       0.879006   \n",
      "Accessories             -0.338862 -0.384906       0.127804       0.156715   \n",
      "Display                  0.084074  0.231730      -0.037584      -0.002938   \n",
      "ExtendedWarranty        -0.086079 -0.097803       0.070865      -0.099467   \n",
      "GameConsole              0.340269 -0.015544       0.388298       0.344637   \n",
      "Laptop                  -0.187367  0.296141      -0.069800      -0.052974   \n",
      "Netbook                  0.222727  0.055871      -0.070011      -0.080180   \n",
      "PC                      -0.263831  0.547113      -0.102892      -0.122216   \n",
      "Printer                  0.249589 -0.037212      -0.149201      -0.133159   \n",
      "PrinterSupplies         -0.093250 -0.114774      -0.090403      -0.111003   \n",
      "Smartphone               0.431369  0.001359      -0.038508      -0.073265   \n",
      "Software                -0.214914 -0.058781       0.001196       0.154461   \n",
      "Tablet                   0.332753  0.131660      -0.050942      -0.002433   \n",
      "\n",
      "                       x3StarReviews  x2StarReviews  x1StarReviews  \\\n",
      "ProductNum                  0.090201      -0.004533      -0.063064   \n",
      "Price                      -0.150538      -0.110681      -0.083957   \n",
      "x5StarReviews               0.763373       0.487279       0.255024   \n",
      "x4StarReviews               0.937214       0.679006       0.444942   \n",
      "x3StarReviews               1.000000       0.861480       0.679276   \n",
      "x2StarReviews               0.861480       1.000000       0.951913   \n",
      "x1StarReviews               0.679276       0.951913       1.000000   \n",
      "PositiveServiceReview       0.418517       0.308901       0.200035   \n",
      "NegativeServiceReview       0.684097       0.864755       0.884728   \n",
      "Recommendproduct           -0.056613      -0.197918      -0.246093   \n",
      "ShippingWeight             -0.171842      -0.128686      -0.095656   \n",
      "ProductDepth               -0.049377      -0.042636      -0.034640   \n",
      "ProductWidth               -0.018839      -0.065800      -0.101140   \n",
      "ProductHeight              -0.068081      -0.013775       0.002518   \n",
      "ProfitMargin               -0.128707      -0.090094      -0.031228   \n",
      "Volume                      0.763373       0.487279       0.255024   \n",
      "Accessories                 0.110609       0.033056      -0.041647   \n",
      "Display                    -0.038495      -0.027086      -0.036285   \n",
      "ExtendedWarranty           -0.099344      -0.093484      -0.051893   \n",
      "GameConsole                 0.258709       0.074430       0.003301   \n",
      "Laptop                     -0.045680      -0.038007      -0.021994   \n",
      "Netbook                    -0.058741      -0.043114      -0.028199   \n",
      "PC                         -0.100935      -0.069310      -0.042873   \n",
      "Printer                    -0.121110      -0.087026      -0.060204   \n",
      "PrinterSupplies            -0.094861      -0.058191      -0.038660   \n",
      "Smartphone                 -0.054335      -0.037891      -0.031436   \n",
      "Software                    0.234863       0.350736       0.393364   \n",
      "Tablet                      0.005640      -0.013498      -0.026604   \n",
      "\n",
      "                       PositiveServiceReview  NegativeServiceReview  \\\n",
      "ProductNum                         -0.057748              -0.019427   \n",
      "Price                              -0.142143              -0.060790   \n",
      "x5StarReviews                       0.622260               0.309419   \n",
      "x4StarReviews                       0.483421               0.533222   \n",
      "x3StarReviews                       0.418517               0.684097   \n",
      "x2StarReviews                       0.308901               0.864755   \n",
      "x1StarReviews                       0.200035               0.884728   \n",
      "PositiveServiceReview               1.000000               0.265550   \n",
      "NegativeServiceReview               0.265550               1.000000   \n",
      "Recommendproduct                    0.232829              -0.188329   \n",
      "ShippingWeight                     -0.270739              -0.111794   \n",
      "ProductDepth                       -0.050527              -0.067410   \n",
      "ProductWidth                       -0.339094              -0.097207   \n",
      "ProductHeight                      -0.314294              -0.020735   \n",
      "ProfitMargin                        0.423592               0.042036   \n",
      "Volume                              0.622260               0.309419   \n",
      "Accessories                         0.002699              -0.148034   \n",
      "Display                            -0.094384              -0.018618   \n",
      "ExtendedWarranty                    0.627110               0.015288   \n",
      "GameConsole                        -0.014267               0.081949   \n",
      "Laptop                             -0.085717               0.052418   \n",
      "Netbook                            -0.077506              -0.047593   \n",
      "PC                                 -0.109386              -0.088359   \n",
      "Printer                            -0.184786               0.008127   \n",
      "PrinterSupplies                    -0.096490              -0.081808   \n",
      "Smartphone                         -0.093917              -0.056082   \n",
      "Software                           -0.041828               0.406130   \n",
      "Tablet                             -0.081914              -0.049409   \n",
      "\n",
      "                       Recommendproduct  ...  ExtendedWarranty  GameConsole  \\\n",
      "ProductNum                     0.003886  ...         -0.086079     0.340269   \n",
      "Price                          0.068930  ...         -0.097803    -0.015544   \n",
      "x5StarReviews                  0.169541  ...          0.070865     0.388298   \n",
      "x4StarReviews                  0.071415  ...         -0.099467     0.344637   \n",
      "x3StarReviews                 -0.056613  ...         -0.099344     0.258709   \n",
      "x2StarReviews                 -0.197918  ...         -0.093484     0.074430   \n",
      "x1StarReviews                 -0.246093  ...         -0.051893     0.003301   \n",
      "PositiveServiceReview          0.232829  ...          0.627110    -0.014267   \n",
      "NegativeServiceReview         -0.188329  ...          0.015288     0.081949   \n",
      "Recommendproduct               1.000000  ...          0.144518     0.126535   \n",
      "ShippingWeight                -0.126044  ...         -0.236803    -0.006073   \n",
      "ProductDepth                   0.090358  ...         -0.157071    -0.019261   \n",
      "ProductWidth                   0.011091  ...         -0.436404     0.022014   \n",
      "ProductHeight                 -0.043716  ...         -0.345553    -0.041136   \n",
      "ProfitMargin                   0.095761  ...          0.802267    -0.006230   \n",
      "Volume                         0.169541  ...          0.070865     0.388298   \n",
      "Accessories                    0.058505  ...         -0.262265    -0.111111   \n",
      "Display                        0.072398  ...         -0.097590    -0.041345   \n",
      "ExtendedWarranty               0.144518  ...          1.000000    -0.060523   \n",
      "GameConsole                    0.126535  ...         -0.060523     1.000000   \n",
      "Laptop                        -0.011740  ...         -0.074605    -0.031607   \n",
      "Netbook                       -0.363277  ...         -0.060523    -0.025641   \n",
      "PC                             0.093567  ...         -0.086711    -0.036736   \n",
      "Printer                       -0.149915  ...         -0.158777    -0.067267   \n",
      "PrinterSupplies               -0.078827  ...         -0.074605    -0.031607   \n",
      "Smartphone                    -0.023392  ...         -0.086711    -0.036736   \n",
      "Software                      -0.065326  ...         -0.107624    -0.045596   \n",
      "Tablet                         0.088890  ...         -0.074605    -0.031607   \n",
      "\n",
      "                         Laptop   Netbook        PC   Printer  \\\n",
      "ProductNum            -0.187367  0.222727 -0.263831  0.249589   \n",
      "Price                  0.296141  0.055871  0.547113 -0.037212   \n",
      "x5StarReviews         -0.069800 -0.070011 -0.102892 -0.149201   \n",
      "x4StarReviews         -0.052974 -0.080180 -0.122216 -0.133159   \n",
      "x3StarReviews         -0.045680 -0.058741 -0.100935 -0.121110   \n",
      "x2StarReviews         -0.038007 -0.043114 -0.069310 -0.087026   \n",
      "x1StarReviews         -0.021994 -0.028199 -0.042873 -0.060204   \n",
      "PositiveServiceReview -0.085717 -0.077506 -0.109386 -0.184786   \n",
      "NegativeServiceReview  0.052418 -0.047593 -0.088359  0.008127   \n",
      "Recommendproduct      -0.011740 -0.363277  0.093567 -0.149915   \n",
      "ShippingWeight        -0.055573 -0.060059  0.317383  0.757676   \n",
      "ProductDepth          -0.005034 -0.031924  0.054012  0.029244   \n",
      "ProductWidth          -0.042332  0.062212  0.202113  0.555982   \n",
      "ProductHeight         -0.075601 -0.117742  0.349917  0.515704   \n",
      "ProfitMargin          -0.081632 -0.061609 -0.023802 -0.055692   \n",
      "Volume                -0.069800 -0.070011 -0.102892 -0.149201   \n",
      "Accessories           -0.136964 -0.111111 -0.159189 -0.291492   \n",
      "Display               -0.050965 -0.041345 -0.059235 -0.108465   \n",
      "ExtendedWarranty      -0.074605 -0.060523 -0.086711 -0.158777   \n",
      "GameConsole           -0.031607 -0.025641 -0.036736 -0.067267   \n",
      "Laptop                 1.000000 -0.031607 -0.045283 -0.082918   \n",
      "Netbook               -0.031607  1.000000 -0.036736 -0.067267   \n",
      "PC                    -0.045283 -0.036736  1.000000 -0.096374   \n",
      "Printer               -0.082918 -0.067267 -0.096374  1.000000   \n",
      "PrinterSupplies       -0.038961 -0.031607 -0.045283 -0.082918   \n",
      "Smartphone            -0.045283 -0.036736 -0.052632 -0.096374   \n",
      "Software              -0.056205 -0.045596 -0.065326 -0.119618   \n",
      "Tablet                -0.038961 -0.031607 -0.045283 -0.082918   \n",
      "\n",
      "                       PrinterSupplies  Smartphone  Software    Tablet  \n",
      "ProductNum                   -0.093250    0.431369 -0.214914  0.332753  \n",
      "Price                        -0.114774    0.001359 -0.058781  0.131660  \n",
      "x5StarReviews                -0.090403   -0.038508  0.001196 -0.050942  \n",
      "x4StarReviews                -0.111003   -0.073265  0.154461 -0.002433  \n",
      "x3StarReviews                -0.094861   -0.054335  0.234863  0.005640  \n",
      "x2StarReviews                -0.058191   -0.037891  0.350736 -0.013498  \n",
      "x1StarReviews                -0.038660   -0.031436  0.393364 -0.026604  \n",
      "PositiveServiceReview        -0.096490   -0.093917 -0.041828 -0.081914  \n",
      "NegativeServiceReview        -0.081808   -0.056082  0.406130 -0.049409  \n",
      "Recommendproduct             -0.078827   -0.023392 -0.065326  0.088890  \n",
      "ShippingWeight               -0.072727   -0.133107 -0.167880 -0.098414  \n",
      "ProductDepth                 -0.066864   -0.074189 -0.071848 -0.036157  \n",
      "ProductWidth                 -0.184183   -0.110745 -0.183007  0.039281  \n",
      "ProductHeight                -0.074736   -0.196338 -0.129304 -0.170079  \n",
      "ProfitMargin                  0.276754   -0.053555  0.091502  0.026452  \n",
      "Volume                       -0.090403   -0.038508  0.001196 -0.050942  \n",
      "Accessories                  -0.136964   -0.159189 -0.197583 -0.136964  \n",
      "Display                      -0.050965   -0.059235 -0.073521 -0.050965  \n",
      "ExtendedWarranty             -0.074605   -0.086711 -0.107624 -0.074605  \n",
      "GameConsole                  -0.031607   -0.036736 -0.045596 -0.031607  \n",
      "Laptop                       -0.038961   -0.045283 -0.056205 -0.038961  \n",
      "Netbook                      -0.031607   -0.036736 -0.045596 -0.031607  \n",
      "PC                           -0.045283   -0.052632 -0.065326 -0.045283  \n",
      "Printer                      -0.082918   -0.096374 -0.119618 -0.082918  \n",
      "PrinterSupplies               1.000000   -0.045283 -0.056205 -0.038961  \n",
      "Smartphone                   -0.045283    1.000000 -0.065326 -0.045283  \n",
      "Software                     -0.056205   -0.065326  1.000000 -0.056205  \n",
      "Tablet                       -0.038961   -0.045283 -0.056205  1.000000  \n",
      "\n",
      "[28 rows x 28 columns]\n"
     ]
    }
   ],
   "source": [
    "# Correlation Matrix \n",
    "corrMat = existing_products.corr()\n",
    "print(corrMat)"
   ]
  },
  {
   "cell_type": "code",
   "execution_count": 14,
   "metadata": {},
   "outputs": [
    {
     "data": {
      "text/plain": [
       "<matplotlib.axes._subplots.AxesSubplot at 0x1587f033908>"
      ]
     },
     "execution_count": 14,
     "metadata": {},
     "output_type": "execute_result"
    },
    {
     "data": {
      "image/png": "[encoded data removed]",
      "text/plain": [
       "<Figure size 1080x720 with 2 Axes>"
      ]
     },
     "metadata": {
      "needs_background": "light"
     },
     "output_type": "display_data"
    }
   ],
   "source": [
    "# Create heatmap\n",
    "plt.figure(figsize = (15,10))\n",
    "sns.heatmap(corrMat, cmap=\"Blues\")"
   ]
  },
  {
   "cell_type": "markdown",
   "metadata": {},
   "source": [
    "* When there is no correlation between 2 variables (when correlation is 0 or near 0) the color is gray. The darkest blue means there is a perfect positive correlation, while the lighest blue means there is a perfect negative correlation.\n",
    "* Correlation matrix revealed 1-5 star reviews, positive and negative reviews has greater relationship with sales volume, product dimensions and profit margin do not have too much relationship. We will take these factors into consideration when we subset dataset for training and testing later on."
   ]
  },
  {
   "cell_type": "markdown",
   "metadata": {},
   "source": [
    "#### Checking for Variable Importance\n",
    "* There are many independent variables. Our goal is to investigate the impact of different reviews on future sales volume. Therefore, we subset the attributes by 1-5 star reviews, positive, negative reviews and volume. We then plot the correlation matrix to find out the importance for these variables. "
   ]
  },
  {
   "cell_type": "code",
   "execution_count": 15,
   "metadata": {},
   "outputs": [
    {
     "data": {
      "text/html": [
       "<div>\n",
       "<style scoped>\n",
       "    .dataframe tbody tr th:only-of-type {\n",
       "        vertical-align: middle;\n",
       "    }\n",
       "\n",
       "    .dataframe tbody tr th {\n",
       "        vertical-align: top;\n",
       "    }\n",
       "\n",
       "    .dataframe thead th {\n",
       "        text-align: right;\n",
       "    }\n",
       "</style>\n",
       "<table border=\"1\" class=\"dataframe\">\n",
       "  <thead>\n",
       "    <tr style=\"text-align: right;\">\n",
       "      <th></th>\n",
       "      <th>Volume</th>\n",
       "      <th>Ratings</th>\n",
       "    </tr>\n",
       "  </thead>\n",
       "  <tbody>\n",
       "    <tr>\n",
       "      <td>x5StarReviews</td>\n",
       "      <td>1.000000</td>\n",
       "      <td>5 Star</td>\n",
       "    </tr>\n",
       "    <tr>\n",
       "      <td>x4StarReviews</td>\n",
       "      <td>0.879006</td>\n",
       "      <td>4 Star</td>\n",
       "    </tr>\n",
       "    <tr>\n",
       "      <td>x3StarReviews</td>\n",
       "      <td>0.763373</td>\n",
       "      <td>3 Star</td>\n",
       "    </tr>\n",
       "    <tr>\n",
       "      <td>x2StarReviews</td>\n",
       "      <td>0.487279</td>\n",
       "      <td>2 Star</td>\n",
       "    </tr>\n",
       "    <tr>\n",
       "      <td>x1StarReviews</td>\n",
       "      <td>0.255024</td>\n",
       "      <td>1 Star</td>\n",
       "    </tr>\n",
       "    <tr>\n",
       "      <td>PositiveServiceReview</td>\n",
       "      <td>0.622260</td>\n",
       "      <td>Postive</td>\n",
       "    </tr>\n",
       "    <tr>\n",
       "      <td>NegativeServiceReview</td>\n",
       "      <td>0.309419</td>\n",
       "      <td>Negative</td>\n",
       "    </tr>\n",
       "  </tbody>\n",
       "</table>\n",
       "</div>"
      ],
      "text/plain": [
       "                         Volume   Ratings\n",
       "x5StarReviews          1.000000    5 Star\n",
       "x4StarReviews          0.879006    4 Star\n",
       "x3StarReviews          0.763373    3 Star\n",
       "x2StarReviews          0.487279    2 Star\n",
       "x1StarReviews          0.255024    1 Star\n",
       "PositiveServiceReview  0.622260   Postive\n",
       "NegativeServiceReview  0.309419  Negative"
      ]
     },
     "execution_count": 15,
     "metadata": {},
     "output_type": "execute_result"
    }
   ],
   "source": [
    "# Create a dataframe for Star Reviews and Service Review with respect to Volume\n",
    "corr_table = corrMat.loc['x5StarReviews':'NegativeServiceReview', ['Volume']]\n",
    "Ratings=['5 Star','4 Star','3 Star','2 Star','1 Star','Postive','Negative']\n",
    "corr_table['Ratings']=Ratings\n",
    "corr_table"
   ]
  },
  {
   "cell_type": "code",
   "execution_count": 16,
   "metadata": {},
   "outputs": [
    {
     "data": {
      "image/png": "[encoded data removed]",
      "text/plain": [
       "<Figure size 720x360 with 1 Axes>"
      ]
     },
     "metadata": {},
     "output_type": "display_data"
    }
   ],
   "source": [
    "# Create Barplot for Correlatoin Matrix\n",
    "sns.set(style=\"whitegrid\")\n",
    "plt.figure(figsize = (10,5))\n",
    "ax = sns.barplot(x=\"Volume\", y=\"Ratings\", data=corr_table)"
   ]
  },
  {
   "cell_type": "markdown",
   "metadata": {},
   "source": [
    "* 5 star review has 100% impact on the sales volume, they have a correlation coefficient 1, so it is considered overfitting and should be removed from our dataset. 4 star, 3 star review, and positive review also have significant impact on sales volume. 1 star, 2 star and negative reviews do not have too much impact on the sales volume. It seems customers are more likely driven by the good reviews rather than the bad reviews."
   ]
  },
  {
   "cell_type": "code",
   "execution_count": 22,
   "metadata": {},
   "outputs": [
    {
     "data": {
      "text/plain": [
       "{'x1StarReviews', 'x3StarReviews'}"
      ]
     },
     "execution_count": 22,
     "metadata": {},
     "output_type": "execute_result"
    }
   ],
   "source": [
    "# Use for loop to check and list highly correlated features\n",
    "highlyCorrelatedFeatures = set()\n",
    "corr_matrix= existing_products.drop('Volume', axis=1).corr()\n",
    "        \n",
    "for i in range(len(corr_matrix.columns)):\n",
    "    for j in range(i):\n",
    "        if abs(corr_matrix.iloc[i, j]) >= 0.9:\n",
    "            varName = corr_matrix.columns[i]\n",
    "            highlyCorrelatedFeatures.add(varName)\n",
    "\n",
    "highlyCorrelatedFeatures"
   ]
  },
  {
   "cell_type": "markdown",
   "metadata": {},
   "source": [
    "#### Create a subset without highly correlated features"
   ]
  },
  {
   "cell_type": "code",
   "execution_count": 23,
   "metadata": {},
   "outputs": [
    {
     "data": {
      "text/plain": [
       "Index(['ProductNum', 'Price', 'x4StarReviews', 'x2StarReviews',\n",
       "       'PositiveServiceReview', 'NegativeServiceReview', 'Recommendproduct',\n",
       "       'ShippingWeight', 'ProductDepth', 'ProductWidth', 'ProductHeight',\n",
       "       'ProfitMargin', 'Volume', 'Accessories', 'Display', 'ExtendedWarranty',\n",
       "       'GameConsole', 'Laptop', 'Netbook', 'PC', 'Printer', 'PrinterSupplies',\n",
       "       'Smartphone', 'Software', 'Tablet'],\n",
       "      dtype='object')"
      ]
     },
     "execution_count": 23,
     "metadata": {},
     "output_type": "execute_result"
    }
   ],
   "source": [
    "# Delete highly correlated features \n",
    "existing_products = existing_products.drop(['x1StarReviews', 'x3StarReviews', 'x5StarReviews'], axis=1)\n",
    "\n",
    "# Check for column names of the updated dataset\n",
    "existing_products.columns"
   ]
  },
  {
   "cell_type": "code",
   "execution_count": 24,
   "metadata": {},
   "outputs": [],
   "source": [
    "# Randomly split training and testing datasets by Sci-Kit Learn\n",
    "from sklearn.model_selection import train_test_split"
   ]
  },
  {
   "cell_type": "code",
   "execution_count": 26,
   "metadata": {},
   "outputs": [],
   "source": [
    "# Create Training and Testing Sets for cm Dataset\n",
    "features = existing_products.iloc[:,0:25]\n",
    "depVar = existing_products['Volume']\n",
    "X_train, X_test, y_train, y_test = train_test_split(features, depVar, test_size=0.25, random_state = 123)"
   ]
  },
  {
   "cell_type": "code",
   "execution_count": 45,
   "metadata": {},
   "outputs": [
    {
     "data": {
      "text/html": [
       "<div>\n",
       "<style scoped>\n",
       "    .dataframe tbody tr th:only-of-type {\n",
       "        vertical-align: middle;\n",
       "    }\n",
       "\n",
       "    .dataframe tbody tr th {\n",
       "        vertical-align: top;\n",
       "    }\n",
       "\n",
       "    .dataframe thead th {\n",
       "        text-align: right;\n",
       "    }\n",
       "</style>\n",
       "<table border=\"1\" class=\"dataframe\">\n",
       "  <thead>\n",
       "    <tr style=\"text-align: right;\">\n",
       "      <th></th>\n",
       "      <th>ProductNum</th>\n",
       "      <th>Price</th>\n",
       "      <th>x4StarReviews</th>\n",
       "      <th>x2StarReviews</th>\n",
       "      <th>PositiveServiceReview</th>\n",
       "      <th>NegativeServiceReview</th>\n",
       "      <th>Recommendproduct</th>\n",
       "      <th>ShippingWeight</th>\n",
       "      <th>ProductDepth</th>\n",
       "      <th>ProductWidth</th>\n",
       "      <th>...</th>\n",
       "      <th>ExtendedWarranty</th>\n",
       "      <th>GameConsole</th>\n",
       "      <th>Laptop</th>\n",
       "      <th>Netbook</th>\n",
       "      <th>PC</th>\n",
       "      <th>Printer</th>\n",
       "      <th>PrinterSupplies</th>\n",
       "      <th>Smartphone</th>\n",
       "      <th>Software</th>\n",
       "      <th>Tablet</th>\n",
       "    </tr>\n",
       "  </thead>\n",
       "  <tbody>\n",
       "    <tr>\n",
       "      <td>0</td>\n",
       "      <td>101</td>\n",
       "      <td>949.00</td>\n",
       "      <td>3</td>\n",
       "      <td>0</td>\n",
       "      <td>2</td>\n",
       "      <td>0</td>\n",
       "      <td>0.9</td>\n",
       "      <td>25.8</td>\n",
       "      <td>23.94</td>\n",
       "      <td>6.62</td>\n",
       "      <td>...</td>\n",
       "      <td>0</td>\n",
       "      <td>0</td>\n",
       "      <td>0</td>\n",
       "      <td>0</td>\n",
       "      <td>1</td>\n",
       "      <td>0</td>\n",
       "      <td>0</td>\n",
       "      <td>0</td>\n",
       "      <td>0</td>\n",
       "      <td>0</td>\n",
       "    </tr>\n",
       "    <tr>\n",
       "      <td>1</td>\n",
       "      <td>102</td>\n",
       "      <td>2249.99</td>\n",
       "      <td>1</td>\n",
       "      <td>0</td>\n",
       "      <td>1</td>\n",
       "      <td>0</td>\n",
       "      <td>0.9</td>\n",
       "      <td>50.0</td>\n",
       "      <td>35.00</td>\n",
       "      <td>31.75</td>\n",
       "      <td>...</td>\n",
       "      <td>0</td>\n",
       "      <td>0</td>\n",
       "      <td>0</td>\n",
       "      <td>0</td>\n",
       "      <td>1</td>\n",
       "      <td>0</td>\n",
       "      <td>0</td>\n",
       "      <td>0</td>\n",
       "      <td>0</td>\n",
       "      <td>0</td>\n",
       "    </tr>\n",
       "    <tr>\n",
       "      <td>2</td>\n",
       "      <td>103</td>\n",
       "      <td>399.00</td>\n",
       "      <td>0</td>\n",
       "      <td>0</td>\n",
       "      <td>1</td>\n",
       "      <td>0</td>\n",
       "      <td>0.9</td>\n",
       "      <td>17.4</td>\n",
       "      <td>10.50</td>\n",
       "      <td>8.30</td>\n",
       "      <td>...</td>\n",
       "      <td>0</td>\n",
       "      <td>0</td>\n",
       "      <td>0</td>\n",
       "      <td>0</td>\n",
       "      <td>1</td>\n",
       "      <td>0</td>\n",
       "      <td>0</td>\n",
       "      <td>0</td>\n",
       "      <td>0</td>\n",
       "      <td>0</td>\n",
       "    </tr>\n",
       "    <tr>\n",
       "      <td>3</td>\n",
       "      <td>104</td>\n",
       "      <td>409.99</td>\n",
       "      <td>19</td>\n",
       "      <td>3</td>\n",
       "      <td>7</td>\n",
       "      <td>8</td>\n",
       "      <td>0.8</td>\n",
       "      <td>5.7</td>\n",
       "      <td>15.00</td>\n",
       "      <td>9.90</td>\n",
       "      <td>...</td>\n",
       "      <td>0</td>\n",
       "      <td>0</td>\n",
       "      <td>1</td>\n",
       "      <td>0</td>\n",
       "      <td>0</td>\n",
       "      <td>0</td>\n",
       "      <td>0</td>\n",
       "      <td>0</td>\n",
       "      <td>0</td>\n",
       "      <td>0</td>\n",
       "    </tr>\n",
       "    <tr>\n",
       "      <td>4</td>\n",
       "      <td>105</td>\n",
       "      <td>1079.99</td>\n",
       "      <td>31</td>\n",
       "      <td>7</td>\n",
       "      <td>7</td>\n",
       "      <td>20</td>\n",
       "      <td>0.7</td>\n",
       "      <td>7.0</td>\n",
       "      <td>12.90</td>\n",
       "      <td>0.30</td>\n",
       "      <td>...</td>\n",
       "      <td>0</td>\n",
       "      <td>0</td>\n",
       "      <td>1</td>\n",
       "      <td>0</td>\n",
       "      <td>0</td>\n",
       "      <td>0</td>\n",
       "      <td>0</td>\n",
       "      <td>0</td>\n",
       "      <td>0</td>\n",
       "      <td>0</td>\n",
       "    </tr>\n",
       "  </tbody>\n",
       "</table>\n",
       "<p>5 rows × 25 columns</p>\n",
       "</div>"
      ],
      "text/plain": [
       "   ProductNum    Price  x4StarReviews  x2StarReviews  PositiveServiceReview  \\\n",
       "0         101   949.00              3              0                      2   \n",
       "1         102  2249.99              1              0                      1   \n",
       "2         103   399.00              0              0                      1   \n",
       "3         104   409.99             19              3                      7   \n",
       "4         105  1079.99             31              7                      7   \n",
       "\n",
       "   NegativeServiceReview  Recommendproduct  ShippingWeight  ProductDepth  \\\n",
       "0                      0               0.9            25.8         23.94   \n",
       "1                      0               0.9            50.0         35.00   \n",
       "2                      0               0.9            17.4         10.50   \n",
       "3                      8               0.8             5.7         15.00   \n",
       "4                     20               0.7             7.0         12.90   \n",
       "\n",
       "   ProductWidth  ...  ExtendedWarranty  GameConsole  Laptop  Netbook  PC  \\\n",
       "0          6.62  ...                 0            0       0        0   1   \n",
       "1         31.75  ...                 0            0       0        0   1   \n",
       "2          8.30  ...                 0            0       0        0   1   \n",
       "3          9.90  ...                 0            0       1        0   0   \n",
       "4          0.30  ...                 0            0       1        0   0   \n",
       "\n",
       "   Printer  PrinterSupplies  Smartphone  Software  Tablet  \n",
       "0        0                0           0         0       0  \n",
       "1        0                0           0         0       0  \n",
       "2        0                0           0         0       0  \n",
       "3        0                0           0         0       0  \n",
       "4        0                0           0         0       0  \n",
       "\n",
       "[5 rows x 25 columns]"
      ]
     },
     "execution_count": 45,
     "metadata": {},
     "output_type": "execute_result"
    }
   ],
   "source": [
    "# Check the head of independent variables\n",
    "features.head()"
   ]
  },
  {
   "cell_type": "code",
   "execution_count": 46,
   "metadata": {},
   "outputs": [
    {
     "data": {
      "text/plain": [
       "0     12\n",
       "1      8\n",
       "2     12\n",
       "3    196\n",
       "4    232\n",
       "Name: Volume, dtype: int64"
      ]
     },
     "execution_count": 46,
     "metadata": {},
     "output_type": "execute_result"
    }
   ],
   "source": [
    "# Check the head of dependent variable \n",
    "depVar.head()"
   ]
  },
  {
   "cell_type": "code",
   "execution_count": 47,
   "metadata": {},
   "outputs": [
    {
     "data": {
      "text/html": [
       "<div>\n",
       "<style scoped>\n",
       "    .dataframe tbody tr th:only-of-type {\n",
       "        vertical-align: middle;\n",
       "    }\n",
       "\n",
       "    .dataframe tbody tr th {\n",
       "        vertical-align: top;\n",
       "    }\n",
       "\n",
       "    .dataframe thead th {\n",
       "        text-align: right;\n",
       "    }\n",
       "</style>\n",
       "<table border=\"1\" class=\"dataframe\">\n",
       "  <thead>\n",
       "    <tr style=\"text-align: right;\">\n",
       "      <th></th>\n",
       "      <th>ProductNum</th>\n",
       "      <th>Price</th>\n",
       "      <th>x4StarReviews</th>\n",
       "      <th>x2StarReviews</th>\n",
       "      <th>PositiveServiceReview</th>\n",
       "      <th>NegativeServiceReview</th>\n",
       "      <th>Recommendproduct</th>\n",
       "      <th>ShippingWeight</th>\n",
       "      <th>ProductDepth</th>\n",
       "      <th>ProductWidth</th>\n",
       "      <th>...</th>\n",
       "      <th>ExtendedWarranty</th>\n",
       "      <th>GameConsole</th>\n",
       "      <th>Laptop</th>\n",
       "      <th>Netbook</th>\n",
       "      <th>PC</th>\n",
       "      <th>Printer</th>\n",
       "      <th>PrinterSupplies</th>\n",
       "      <th>Smartphone</th>\n",
       "      <th>Software</th>\n",
       "      <th>Tablet</th>\n",
       "    </tr>\n",
       "  </thead>\n",
       "  <tbody>\n",
       "    <tr>\n",
       "      <td>1</td>\n",
       "      <td>102</td>\n",
       "      <td>2249.99</td>\n",
       "      <td>1</td>\n",
       "      <td>0</td>\n",
       "      <td>1</td>\n",
       "      <td>0</td>\n",
       "      <td>0.9</td>\n",
       "      <td>50.0</td>\n",
       "      <td>35.0</td>\n",
       "      <td>31.75</td>\n",
       "      <td>...</td>\n",
       "      <td>0</td>\n",
       "      <td>0</td>\n",
       "      <td>0</td>\n",
       "      <td>0</td>\n",
       "      <td>1</td>\n",
       "      <td>0</td>\n",
       "      <td>0</td>\n",
       "      <td>0</td>\n",
       "      <td>0</td>\n",
       "      <td>0</td>\n",
       "    </tr>\n",
       "    <tr>\n",
       "      <td>24</td>\n",
       "      <td>125</td>\n",
       "      <td>31.99</td>\n",
       "      <td>31</td>\n",
       "      <td>3</td>\n",
       "      <td>7</td>\n",
       "      <td>0</td>\n",
       "      <td>0.9</td>\n",
       "      <td>0.2</td>\n",
       "      <td>0.0</td>\n",
       "      <td>0.00</td>\n",
       "      <td>...</td>\n",
       "      <td>0</td>\n",
       "      <td>0</td>\n",
       "      <td>0</td>\n",
       "      <td>0</td>\n",
       "      <td>0</td>\n",
       "      <td>0</td>\n",
       "      <td>0</td>\n",
       "      <td>0</td>\n",
       "      <td>1</td>\n",
       "      <td>0</td>\n",
       "    </tr>\n",
       "    <tr>\n",
       "      <td>65</td>\n",
       "      <td>166</td>\n",
       "      <td>132.36</td>\n",
       "      <td>1</td>\n",
       "      <td>0</td>\n",
       "      <td>0</td>\n",
       "      <td>0</td>\n",
       "      <td>0.8</td>\n",
       "      <td>30.2</td>\n",
       "      <td>20.9</td>\n",
       "      <td>20.90</td>\n",
       "      <td>...</td>\n",
       "      <td>0</td>\n",
       "      <td>0</td>\n",
       "      <td>0</td>\n",
       "      <td>0</td>\n",
       "      <td>0</td>\n",
       "      <td>1</td>\n",
       "      <td>0</td>\n",
       "      <td>0</td>\n",
       "      <td>0</td>\n",
       "      <td>0</td>\n",
       "    </tr>\n",
       "    <tr>\n",
       "      <td>45</td>\n",
       "      <td>146</td>\n",
       "      <td>59.99</td>\n",
       "      <td>59</td>\n",
       "      <td>26</td>\n",
       "      <td>60</td>\n",
       "      <td>5</td>\n",
       "      <td>0.8</td>\n",
       "      <td>2.4</td>\n",
       "      <td>7.9</td>\n",
       "      <td>1.40</td>\n",
       "      <td>...</td>\n",
       "      <td>0</td>\n",
       "      <td>0</td>\n",
       "      <td>0</td>\n",
       "      <td>0</td>\n",
       "      <td>0</td>\n",
       "      <td>0</td>\n",
       "      <td>0</td>\n",
       "      <td>0</td>\n",
       "      <td>0</td>\n",
       "      <td>0</td>\n",
       "    </tr>\n",
       "    <tr>\n",
       "      <td>60</td>\n",
       "      <td>161</td>\n",
       "      <td>128.49</td>\n",
       "      <td>33</td>\n",
       "      <td>3</td>\n",
       "      <td>5</td>\n",
       "      <td>2</td>\n",
       "      <td>0.9</td>\n",
       "      <td>22.7</td>\n",
       "      <td>15.7</td>\n",
       "      <td>15.90</td>\n",
       "      <td>...</td>\n",
       "      <td>0</td>\n",
       "      <td>0</td>\n",
       "      <td>0</td>\n",
       "      <td>0</td>\n",
       "      <td>0</td>\n",
       "      <td>1</td>\n",
       "      <td>0</td>\n",
       "      <td>0</td>\n",
       "      <td>0</td>\n",
       "      <td>0</td>\n",
       "    </tr>\n",
       "  </tbody>\n",
       "</table>\n",
       "<p>5 rows × 25 columns</p>\n",
       "</div>"
      ],
      "text/plain": [
       "    ProductNum    Price  x4StarReviews  x2StarReviews  PositiveServiceReview  \\\n",
       "1          102  2249.99              1              0                      1   \n",
       "24         125    31.99             31              3                      7   \n",
       "65         166   132.36              1              0                      0   \n",
       "45         146    59.99             59             26                     60   \n",
       "60         161   128.49             33              3                      5   \n",
       "\n",
       "    NegativeServiceReview  Recommendproduct  ShippingWeight  ProductDepth  \\\n",
       "1                       0               0.9            50.0          35.0   \n",
       "24                      0               0.9             0.2           0.0   \n",
       "65                      0               0.8            30.2          20.9   \n",
       "45                      5               0.8             2.4           7.9   \n",
       "60                      2               0.9            22.7          15.7   \n",
       "\n",
       "    ProductWidth  ...  ExtendedWarranty  GameConsole  Laptop  Netbook  PC  \\\n",
       "1          31.75  ...                 0            0       0        0   1   \n",
       "24          0.00  ...                 0            0       0        0   0   \n",
       "65         20.90  ...                 0            0       0        0   0   \n",
       "45          1.40  ...                 0            0       0        0   0   \n",
       "60         15.90  ...                 0            0       0        0   0   \n",
       "\n",
       "    Printer  PrinterSupplies  Smartphone  Software  Tablet  \n",
       "1         0                0           0         0       0  \n",
       "24        0                0           0         1       0  \n",
       "65        1                0           0         0       0  \n",
       "45        0                0           0         0       0  \n",
       "60        1                0           0         0       0  \n",
       "\n",
       "[5 rows x 25 columns]"
      ]
     },
     "execution_count": 47,
     "metadata": {},
     "output_type": "execute_result"
    }
   ],
   "source": [
    "X_train.head()"
   ]
  },
  {
   "cell_type": "code",
   "execution_count": 48,
   "metadata": {},
   "outputs": [
    {
     "data": {
      "text/plain": [
       "1        8\n",
       "24     308\n",
       "65       0\n",
       "45    1464\n",
       "60     232\n",
       "Name: Volume, dtype: int64"
      ]
     },
     "execution_count": 48,
     "metadata": {},
     "output_type": "execute_result"
    }
   ],
   "source": [
    "y_train.head()"
   ]
  },
  {
   "cell_type": "code",
   "execution_count": 49,
   "metadata": {},
   "outputs": [
    {
     "data": {
      "text/html": [
       "<div>\n",
       "<style scoped>\n",
       "    .dataframe tbody tr th:only-of-type {\n",
       "        vertical-align: middle;\n",
       "    }\n",
       "\n",
       "    .dataframe tbody tr th {\n",
       "        vertical-align: top;\n",
       "    }\n",
       "\n",
       "    .dataframe thead th {\n",
       "        text-align: right;\n",
       "    }\n",
       "</style>\n",
       "<table border=\"1\" class=\"dataframe\">\n",
       "  <thead>\n",
       "    <tr style=\"text-align: right;\">\n",
       "      <th></th>\n",
       "      <th>ProductNum</th>\n",
       "      <th>Price</th>\n",
       "      <th>x4StarReviews</th>\n",
       "      <th>x2StarReviews</th>\n",
       "      <th>PositiveServiceReview</th>\n",
       "      <th>NegativeServiceReview</th>\n",
       "      <th>Recommendproduct</th>\n",
       "      <th>ShippingWeight</th>\n",
       "      <th>ProductDepth</th>\n",
       "      <th>ProductWidth</th>\n",
       "      <th>...</th>\n",
       "      <th>ExtendedWarranty</th>\n",
       "      <th>GameConsole</th>\n",
       "      <th>Laptop</th>\n",
       "      <th>Netbook</th>\n",
       "      <th>PC</th>\n",
       "      <th>Printer</th>\n",
       "      <th>PrinterSupplies</th>\n",
       "      <th>Smartphone</th>\n",
       "      <th>Software</th>\n",
       "      <th>Tablet</th>\n",
       "    </tr>\n",
       "  </thead>\n",
       "  <tbody>\n",
       "    <tr>\n",
       "      <td>64</td>\n",
       "      <td>165</td>\n",
       "      <td>169.26</td>\n",
       "      <td>13</td>\n",
       "      <td>6</td>\n",
       "      <td>4</td>\n",
       "      <td>7</td>\n",
       "      <td>0.5</td>\n",
       "      <td>32.0</td>\n",
       "      <td>15.10</td>\n",
       "      <td>11.70</td>\n",
       "      <td>...</td>\n",
       "      <td>0</td>\n",
       "      <td>0</td>\n",
       "      <td>0</td>\n",
       "      <td>0</td>\n",
       "      <td>0</td>\n",
       "      <td>1</td>\n",
       "      <td>0</td>\n",
       "      <td>0</td>\n",
       "      <td>0</td>\n",
       "      <td>0</td>\n",
       "    </tr>\n",
       "    <tr>\n",
       "      <td>58</td>\n",
       "      <td>159</td>\n",
       "      <td>149.99</td>\n",
       "      <td>10</td>\n",
       "      <td>1</td>\n",
       "      <td>4</td>\n",
       "      <td>2</td>\n",
       "      <td>0.8</td>\n",
       "      <td>10.0</td>\n",
       "      <td>20.00</td>\n",
       "      <td>15.30</td>\n",
       "      <td>...</td>\n",
       "      <td>0</td>\n",
       "      <td>0</td>\n",
       "      <td>0</td>\n",
       "      <td>0</td>\n",
       "      <td>0</td>\n",
       "      <td>0</td>\n",
       "      <td>0</td>\n",
       "      <td>0</td>\n",
       "      <td>0</td>\n",
       "      <td>0</td>\n",
       "    </tr>\n",
       "    <tr>\n",
       "      <td>59</td>\n",
       "      <td>160</td>\n",
       "      <td>129.99</td>\n",
       "      <td>25</td>\n",
       "      <td>6</td>\n",
       "      <td>4</td>\n",
       "      <td>2</td>\n",
       "      <td>0.9</td>\n",
       "      <td>32.2</td>\n",
       "      <td>15.70</td>\n",
       "      <td>15.90</td>\n",
       "      <td>...</td>\n",
       "      <td>0</td>\n",
       "      <td>0</td>\n",
       "      <td>0</td>\n",
       "      <td>0</td>\n",
       "      <td>0</td>\n",
       "      <td>1</td>\n",
       "      <td>0</td>\n",
       "      <td>0</td>\n",
       "      <td>0</td>\n",
       "      <td>0</td>\n",
       "    </tr>\n",
       "    <tr>\n",
       "      <td>4</td>\n",
       "      <td>105</td>\n",
       "      <td>1079.99</td>\n",
       "      <td>31</td>\n",
       "      <td>7</td>\n",
       "      <td>7</td>\n",
       "      <td>20</td>\n",
       "      <td>0.7</td>\n",
       "      <td>7.0</td>\n",
       "      <td>12.90</td>\n",
       "      <td>0.30</td>\n",
       "      <td>...</td>\n",
       "      <td>0</td>\n",
       "      <td>0</td>\n",
       "      <td>1</td>\n",
       "      <td>0</td>\n",
       "      <td>0</td>\n",
       "      <td>0</td>\n",
       "      <td>0</td>\n",
       "      <td>0</td>\n",
       "      <td>0</td>\n",
       "      <td>0</td>\n",
       "    </tr>\n",
       "    <tr>\n",
       "      <td>69</td>\n",
       "      <td>177</td>\n",
       "      <td>379.99</td>\n",
       "      <td>0</td>\n",
       "      <td>1</td>\n",
       "      <td>0</td>\n",
       "      <td>1</td>\n",
       "      <td>0.3</td>\n",
       "      <td>3.0</td>\n",
       "      <td>7.44</td>\n",
       "      <td>10.43</td>\n",
       "      <td>...</td>\n",
       "      <td>0</td>\n",
       "      <td>0</td>\n",
       "      <td>0</td>\n",
       "      <td>1</td>\n",
       "      <td>0</td>\n",
       "      <td>0</td>\n",
       "      <td>0</td>\n",
       "      <td>0</td>\n",
       "      <td>0</td>\n",
       "      <td>0</td>\n",
       "    </tr>\n",
       "  </tbody>\n",
       "</table>\n",
       "<p>5 rows × 25 columns</p>\n",
       "</div>"
      ],
      "text/plain": [
       "    ProductNum    Price  x4StarReviews  x2StarReviews  PositiveServiceReview  \\\n",
       "64         165   169.26             13              6                      4   \n",
       "58         159   149.99             10              1                      4   \n",
       "59         160   129.99             25              6                      4   \n",
       "4          105  1079.99             31              7                      7   \n",
       "69         177   379.99              0              1                      0   \n",
       "\n",
       "    NegativeServiceReview  Recommendproduct  ShippingWeight  ProductDepth  \\\n",
       "64                      7               0.5            32.0         15.10   \n",
       "58                      2               0.8            10.0         20.00   \n",
       "59                      2               0.9            32.2         15.70   \n",
       "4                      20               0.7             7.0         12.90   \n",
       "69                      1               0.3             3.0          7.44   \n",
       "\n",
       "    ProductWidth  ...  ExtendedWarranty  GameConsole  Laptop  Netbook  PC  \\\n",
       "64         11.70  ...                 0            0       0        0   0   \n",
       "58         15.30  ...                 0            0       0        0   0   \n",
       "59         15.90  ...                 0            0       0        0   0   \n",
       "4           0.30  ...                 0            0       1        0   0   \n",
       "69         10.43  ...                 0            0       0        1   0   \n",
       "\n",
       "    Printer  PrinterSupplies  Smartphone  Software  Tablet  \n",
       "64        1                0           0         0       0  \n",
       "58        0                0           0         0       0  \n",
       "59        1                0           0         0       0  \n",
       "4         0                0           0         0       0  \n",
       "69        0                0           0         0       0  \n",
       "\n",
       "[5 rows x 25 columns]"
      ]
     },
     "execution_count": 49,
     "metadata": {},
     "output_type": "execute_result"
    }
   ],
   "source": [
    "X_test.head()"
   ]
  },
  {
   "cell_type": "code",
   "execution_count": 50,
   "metadata": {},
   "outputs": [
    {
     "data": {
      "text/plain": [
       "64     80\n",
       "58     84\n",
       "59    296\n",
       "4     232\n",
       "69      4\n",
       "Name: Volume, dtype: int64"
      ]
     },
     "execution_count": 50,
     "metadata": {},
     "output_type": "execute_result"
    }
   ],
   "source": [
    "y_test.head()"
   ]
  },
  {
   "cell_type": "code",
   "execution_count": 27,
   "metadata": {},
   "outputs": [
    {
     "data": {
      "text/plain": [
       "((60, 25), (20, 25))"
      ]
     },
     "execution_count": 27,
     "metadata": {},
     "output_type": "execute_result"
    }
   ],
   "source": [
    "# Use the shape function to double check if the split was made as desired\n",
    "X_train.shape, X_test.shape"
   ]
  },
  {
   "cell_type": "markdown",
   "metadata": {},
   "source": [
    "# Building Models\n",
    "* Here we use three regression algorithms:  \n",
    " * Random Forest\n",
    " * Supportive Vector Machine (SVM) \n",
    " * Gradient Boosting"
   ]
  },
  {
   "cell_type": "code",
   "execution_count": 28,
   "metadata": {},
   "outputs": [],
   "source": [
    "# Estimators\n",
    "from sklearn.ensemble import RandomForestRegressor\n",
    "from sklearn.svm import SVR\n",
    "from sklearn.ensemble import GradientBoostingRegressor\n",
    "\n",
    "# Model Metrics\n",
    "from sklearn.metrics import mean_squared_error\n",
    "from sklearn.metrics import r2_score\n",
    "from sklearn.model_selection import cross_val_score\n",
    "from sklearn.model_selection import cross_val_predict"
   ]
  },
  {
   "cell_type": "code",
   "execution_count": 29,
   "metadata": {},
   "outputs": [],
   "source": [
    "import warnings\n",
    "warnings.filterwarnings(\"ignore\")"
   ]
  },
  {
   "cell_type": "markdown",
   "metadata": {},
   "source": [
    "#### Use cross_val_score to compare the performance on 3 models\n",
    "* Random Forest Model"
   ]
  },
  {
   "cell_type": "code",
   "execution_count": 31,
   "metadata": {},
   "outputs": [
    {
     "name": "stdout",
     "output_type": "stream",
     "text": [
      "[0.89364798 0.95526628 0.2103719 ]\n"
     ]
    }
   ],
   "source": [
    "# Define the Regressor\n",
    "modelRF = RandomForestRegressor(n_estimators=15)\n",
    "\n",
    "# Fit the Model\n",
    "modelRF.fit(X_train, y_train)\n",
    "print(cross_val_score(modelRF, X_train, y_train))"
   ]
  },
  {
   "cell_type": "markdown",
   "metadata": {},
   "source": [
    "* SVM Model"
   ]
  },
  {
   "cell_type": "code",
   "execution_count": 32,
   "metadata": {},
   "outputs": [
    {
     "name": "stdout",
     "output_type": "stream",
     "text": [
      "[0.99999997 0.99999998 0.99999997]\n"
     ]
    }
   ],
   "source": [
    "# Define the Regressor\n",
    "modelSVM = SVR(kernel='linear')\n",
    "\n",
    "# Fit the Model\n",
    "modelSVM.fit(X_train, y_train)\n",
    "print(cross_val_score(modelSVM, X_train, y_train))"
   ]
  },
  {
   "cell_type": "markdown",
   "metadata": {},
   "source": [
    "##### With R-square value almost 1, this model is overfitting."
   ]
  },
  {
   "cell_type": "markdown",
   "metadata": {},
   "source": [
    "* Gradient Boosting Model"
   ]
  },
  {
   "cell_type": "code",
   "execution_count": 35,
   "metadata": {},
   "outputs": [
    {
     "name": "stdout",
     "output_type": "stream",
     "text": [
      "[0.85002683 0.91015475 0.18522637]\n"
     ]
    }
   ],
   "source": [
    "# Define the Regressor\n",
    "modelGB = GradientBoostingRegressor(n_estimators=15)\n",
    "\n",
    "# Fit the Model\n",
    "modelGB.fit(X_train, y_train)\n",
    "print(cross_val_score(modelGB, X_train, y_train))"
   ]
  },
  {
   "cell_type": "markdown",
   "metadata": {},
   "source": [
    "#### R Square, RMSE and Model Score for Each Model"
   ]
  },
  {
   "cell_type": "code",
   "execution_count": 78,
   "metadata": {},
   "outputs": [
    {
     "name": "stdout",
     "output_type": "stream",
     "text": [
      "R Squared: 0.846\n",
      "RMSE: 605.227\n"
     ]
    }
   ],
   "source": [
    "# Make Predictions\n",
    "Pred = modelRF.predict(X_test)\n",
    "Rsquared = r2_score(y_test, Pred)\n",
    "RMSE = sqrt(mean_squared_error(y_test, Pred))\n",
    "print('R Squared: %.3f' % Rsquared)\n",
    "print('RMSE: %.3f' % RMSE)"
   ]
  },
  {
   "cell_type": "code",
   "execution_count": 55,
   "metadata": {},
   "outputs": [
    {
     "data": {
      "text/plain": [
       "0.9512884837132101"
      ]
     },
     "execution_count": 55,
     "metadata": {},
     "output_type": "execute_result"
    }
   ],
   "source": [
    "modelRF.score(X_train, y_train)"
   ]
  },
  {
   "cell_type": "code",
   "execution_count": 56,
   "metadata": {},
   "outputs": [
    {
     "name": "stdout",
     "output_type": "stream",
     "text": [
      "R Squared: 0.763\n",
      "RMSE: 750.546\n"
     ]
    }
   ],
   "source": [
    "# Make Predictions\n",
    "Pred_GB = modelGB.predict(X_test)\n",
    "Rsquared = r2_score(y_test, Pred)\n",
    "RMSE = sqrt(mean_squared_error(y_test, Pred))\n",
    "print('R Squared: %.3f' % Rsquared)\n",
    "print('RMSE: %.3f' % RMSE)"
   ]
  },
  {
   "cell_type": "code",
   "execution_count": 57,
   "metadata": {},
   "outputs": [
    {
     "data": {
      "text/plain": [
       "0.9561743276577171"
      ]
     },
     "execution_count": 57,
     "metadata": {},
     "output_type": "execute_result"
    }
   ],
   "source": [
    "modelGB.score(X_train, y_train)"
   ]
  },
  {
   "cell_type": "code",
   "execution_count": 86,
   "metadata": {},
   "outputs": [
    {
     "name": "stdout",
     "output_type": "stream",
     "text": [
      "R Squared: 0.846\n",
      "RMSE: 605.227\n"
     ]
    }
   ],
   "source": [
    "# Make Predictions\n",
    "Pred_SVM = modelSVM.predict(X_test)\n",
    "Rsquared = r2_score(y_test, Pred)\n",
    "RMSE = sqrt(mean_squared_error(y_test, Pred))\n",
    "print('R Squared: %.3f' % Rsquared)\n",
    "print('RMSE: %.3f' % RMSE)"
   ]
  },
  {
   "cell_type": "code",
   "execution_count": 59,
   "metadata": {},
   "outputs": [
    {
     "data": {
      "text/plain": [
       "0.9999999974635441"
      ]
     },
     "execution_count": 59,
     "metadata": {},
     "output_type": "execute_result"
    }
   ],
   "source": [
    "modelSVM.score(X_train, y_train)"
   ]
  },
  {
   "cell_type": "markdown",
   "metadata": {},
   "source": [
    "### Model Selection\n",
    "#### We will use R-Squared, RMSE and Model Score to evaluate these models\n",
    "* <b>R-squared measures</b> the percentage of the variance between the dependent variable that is predicted from the independent variables and the observed dependent variable.\n",
    "\n",
    "* <b>RMSE</b>(Root Mean Squared Error) measures teh error between predicted and observed values. In other words, how close the real data are fitted to teh prediction\n",
    "\n",
    "SVM Model is for sure overfitting, as both of the model score and cross_val_score is almost 1. Therefore, we will drop this model from further consideration.\n",
    "\n",
    "We picked Random Forest model because it has the higher RMSE, RSquared and cross_val_score than the corresponding values in Gradient Boosting model."
   ]
  },
  {
   "cell_type": "markdown",
   "metadata": {},
   "source": [
    "## Make Predictions on the New Products"
   ]
  },
  {
   "cell_type": "markdown",
   "metadata": {},
   "source": [
    "#### Load new product dataset and perform necessary preprocessing"
   ]
  },
  {
   "cell_type": "code",
   "execution_count": 153,
   "metadata": {},
   "outputs": [],
   "source": [
    "new_products = pd.read_csv('newproductattributes2017.csv')"
   ]
  },
  {
   "cell_type": "code",
   "execution_count": 154,
   "metadata": {},
   "outputs": [
    {
     "data": {
      "text/plain": [
       "Index(['ProductNum', 'Price', 'x4StarReviews', 'x2StarReviews',\n",
       "       'PositiveServiceReview', 'NegativeServiceReview', 'Recommendproduct',\n",
       "       'ShippingWeight', 'ProductDepth', 'ProductWidth', 'ProductHeight',\n",
       "       'ProfitMargin', 'Volume', 'Accessories', 'Display', 'ExtendedWarranty',\n",
       "       'GameConsole', 'Laptop', 'Netbook', 'PC', 'Printer', 'PrinterSupplies',\n",
       "       'Smartphone', 'Software', 'Tablet'],\n",
       "      dtype='object')"
      ]
     },
     "execution_count": 154,
     "metadata": {},
     "output_type": "execute_result"
    }
   ],
   "source": [
    "# Use df.get_dummies() to convert the data type\n",
    "dummy_new = pd.get_dummies(new_products['ProductType'])\n",
    "\n",
    "# Concatenate Dummy Variables with the original Dataframe\n",
    "new_products = pd.concat([new_products, dummy_new], axis=1)\n",
    "\n",
    "# Delete 'ProductType' and 'BestSellersRank' Variables\n",
    "new_products=new_products.drop('ProductType', axis=1)\n",
    "new_products=new_products.drop('BestSellersRank', axis=1)\n",
    "\n",
    "# Delete other highly correlated variables mannually\n",
    "\n",
    "new_manual = new_products.drop(['x1StarReviews', 'x3StarReviews', 'x5StarReviews'], axis=1)\n",
    "\n",
    "# Check for column names of the updated dataset\n",
    "new_manual.columns"
   ]
  },
  {
   "cell_type": "markdown",
   "metadata": {},
   "source": [
    "#### Make Predictions using Random Forest Model"
   ]
  },
  {
   "cell_type": "code",
   "execution_count": 155,
   "metadata": {},
   "outputs": [],
   "source": [
    "# Take out dependent variable\n",
    "feature_new = new_manual.iloc[:, 0:25]\n",
    " \n",
    "# Make Predictions\n",
    "newPred = modelRF.predict(feature_new)"
   ]
  },
  {
   "cell_type": "code",
   "execution_count": 157,
   "metadata": {},
   "outputs": [],
   "source": [
    "# Need to reload the newproduct dataset for profitbility calculatoin \n",
    "new_products = pd.read_csv('newproductattributes2017.csv')"
   ]
  },
  {
   "cell_type": "markdown",
   "metadata": {},
   "source": [
    "#### Create a final output with product type and profit"
   ]
  },
  {
   "cell_type": "code",
   "execution_count": 158,
   "metadata": {},
   "outputs": [],
   "source": [
    "# Add volume and create profit variable\n",
    "profit = new_products\n",
    "profit['Volume'] = newPred\n",
    "profit['Profit'] = profit['Volume'] * profit['Price'] * profit['ProfitMargin']\n",
    "\n",
    "# Create a dataset with product type and profit \n",
    "profit = profit[['ProductType','Profit']]"
   ]
  },
  {
   "cell_type": "markdown",
   "metadata": {},
   "source": [
    "## Final Analysis and Visualization\n",
    "### Profit by Product Type"
   ]
  },
  {
   "cell_type": "code",
   "execution_count": 161,
   "metadata": {},
   "outputs": [
    {
     "data": {
      "text/html": [
       "<div>\n",
       "<style scoped>\n",
       "    .dataframe tbody tr th:only-of-type {\n",
       "        vertical-align: middle;\n",
       "    }\n",
       "\n",
       "    .dataframe tbody tr th {\n",
       "        vertical-align: top;\n",
       "    }\n",
       "\n",
       "    .dataframe thead th {\n",
       "        text-align: right;\n",
       "    }\n",
       "</style>\n",
       "<table border=\"1\" class=\"dataframe\">\n",
       "  <thead>\n",
       "    <tr style=\"text-align: right;\">\n",
       "      <th></th>\n",
       "      <th>Profit</th>\n",
       "    </tr>\n",
       "    <tr>\n",
       "      <th>ProductType</th>\n",
       "      <th></th>\n",
       "    </tr>\n",
       "  </thead>\n",
       "  <tbody>\n",
       "    <tr>\n",
       "      <td>PC</td>\n",
       "      <td>26778.933333</td>\n",
       "    </tr>\n",
       "    <tr>\n",
       "      <td>Laptop</td>\n",
       "      <td>15313.373333</td>\n",
       "    </tr>\n",
       "    <tr>\n",
       "      <td>Netbook</td>\n",
       "      <td>6441.416640</td>\n",
       "    </tr>\n",
       "    <tr>\n",
       "      <td>Smartphone</td>\n",
       "      <td>3909.976000</td>\n",
       "    </tr>\n",
       "  </tbody>\n",
       "</table>\n",
       "</div>"
      ],
      "text/plain": [
       "                   Profit\n",
       "ProductType              \n",
       "PC           26778.933333\n",
       "Laptop       15313.373333\n",
       "Netbook       6441.416640\n",
       "Smartphone    3909.976000"
      ]
     },
     "execution_count": 161,
     "metadata": {},
     "output_type": "execute_result"
    }
   ],
   "source": [
    "profit.groupby('ProductType').sum().loc[['PC','Laptop','Netbook','Smartphone']]"
   ]
  },
  {
   "cell_type": "code",
   "execution_count": 163,
   "metadata": {},
   "outputs": [
    {
     "data": {
      "text/plain": [
       "<matplotlib.axes._subplots.AxesSubplot at 0x1587fc62dc8>"
      ]
     },
     "execution_count": 163,
     "metadata": {},
     "output_type": "execute_result"
    },
    {
     "data": {
      "image/png": "[encoded data removed]",
      "text/plain": [
       "<Figure size 1440x360 with 1 Axes>"
      ]
     },
     "metadata": {},
     "output_type": "display_data"
    }
   ],
   "source": [
    "plt.figure(figsize = (20,5))\n",
    "sns.barplot(data=profit,  x='ProductType', y='Profit', estimator=sum)"
   ]
  },
  {
   "cell_type": "markdown",
   "metadata": {},
   "source": [
    "* We were asked to predict the profitability of PC, Laptop, Notebook and Smartphone. PC shows the highest profit among the four. But from the plot below, we can see Tablets and GameConsole actually have the highest profit among all the products. We should focus more on these two products."
   ]
  },
  {
   "cell_type": "markdown",
   "metadata": {},
   "source": [
    "### Summary on Reviews"
   ]
  },
  {
   "cell_type": "code",
   "execution_count": 165,
   "metadata": {},
   "outputs": [
    {
     "data": {
      "image/png": "[encoded data removed]",
      "text/plain": [
       "<Figure size 720x360 with 1 Axes>"
      ]
     },
     "metadata": {},
     "output_type": "display_data"
    }
   ],
   "source": [
    "# Create Barplot for Correlatoin Matrix\n",
    "sns.set(style=\"whitegrid\")\n",
    "plt.figure(figsize = (10,5))\n",
    "ax = sns.barplot(x=\"Volume\", y=\"Ratings\", data=corr_table)"
   ]
  },
  {
   "cell_type": "markdown",
   "metadata": {},
   "source": [
    "* 5 star review has 100% impact on the sales volume. 4 star, 3 star review, and positive review also have significant impact on sales volume. 1 star, 2 star and negative reviews do not have too much impact on the sales volume. It seems customers are more likely driven by the good reviews rather than the bad reviews.\n",
    "\n",
    "<b>Here ends our project</b>"
   ]
  },
  {
   "cell_type": "code",
   "execution_count": null,
   "metadata": {},
   "outputs": [],
   "source": []
  }
 ],
 "metadata": {
  "kernelspec": {
   "display_name": "Python 3",
   "language": "python",
   "name": "python3"
  },
  "language_info": {
   "codemirror_mode": {
    "name": "ipython",
    "version": 3
   },
   "file_extension": ".py",
   "mimetype": "text/x-python",
   "name": "python",
   "nbconvert_exporter": "python",
   "pygments_lexer": "ipython3",
   "version": "3.7.4"
  }
 },
 "nbformat": 4,
 "nbformat_minor": 2
}

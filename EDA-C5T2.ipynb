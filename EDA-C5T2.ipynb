{
 "cells": [
  {
   "cell_type": "markdown",
   "metadata": {},
   "source": [
    "# Import Libraries"
   ]
  },
  {
   "cell_type": "code",
   "execution_count": 2,
   "metadata": {},
   "outputs": [],
   "source": [
    "# DS basics\n",
    "import numpy as np\n",
    "import pandas as pd\n",
    "from pandas import Series, DataFrame\n",
    "import matplotlib as mpl\n",
    "import matplotlib.pyplot as plt\n",
    "import seaborn as sns \n",
    "%matplotlib inline"
   ]
  },
  {
   "cell_type": "markdown",
   "metadata": {},
   "source": [
    "# Reading Data Set Using Pandas"
   ]
  },
  {
   "cell_type": "code",
   "execution_count": 3,
   "metadata": {},
   "outputs": [],
   "source": [
    "# Loading the dataset \n",
    "credit = pd.read_csv('DefaultOfCreditCardClients.csv', header =1)"
   ]
  },
  {
   "cell_type": "code",
   "execution_count": 123,
   "metadata": {},
   "outputs": [
    {
     "data": {
      "text/html": [
       "<div>\n",
       "<style scoped>\n",
       "    .dataframe tbody tr th:only-of-type {\n",
       "        vertical-align: middle;\n",
       "    }\n",
       "\n",
       "    .dataframe tbody tr th {\n",
       "        vertical-align: top;\n",
       "    }\n",
       "\n",
       "    .dataframe thead th {\n",
       "        text-align: right;\n",
       "    }\n",
       "</style>\n",
       "<table border=\"1\" class=\"dataframe\">\n",
       "  <thead>\n",
       "    <tr style=\"text-align: right;\">\n",
       "      <th></th>\n",
       "      <th>ID</th>\n",
       "      <th>LIMIT_BAL</th>\n",
       "      <th>SEX</th>\n",
       "      <th>EDUCATION</th>\n",
       "      <th>MARRIAGE</th>\n",
       "      <th>AGE</th>\n",
       "      <th>Sep_Status</th>\n",
       "      <th>Aug_Status</th>\n",
       "      <th>July_Status</th>\n",
       "      <th>June_Status</th>\n",
       "      <th>...</th>\n",
       "      <th>June_Bill</th>\n",
       "      <th>May_Bill</th>\n",
       "      <th>April_Bill</th>\n",
       "      <th>Sep_Paid</th>\n",
       "      <th>Aug_Paid</th>\n",
       "      <th>July_Paid</th>\n",
       "      <th>June_Paid</th>\n",
       "      <th>May_Paid</th>\n",
       "      <th>April_Paid</th>\n",
       "      <th>Default_Payment_Next_Month</th>\n",
       "    </tr>\n",
       "  </thead>\n",
       "  <tbody>\n",
       "    <tr>\n",
       "      <td>0</td>\n",
       "      <td>1</td>\n",
       "      <td>20000</td>\n",
       "      <td>2</td>\n",
       "      <td>2</td>\n",
       "      <td>1</td>\n",
       "      <td>24</td>\n",
       "      <td>2</td>\n",
       "      <td>2</td>\n",
       "      <td>-1</td>\n",
       "      <td>-1</td>\n",
       "      <td>...</td>\n",
       "      <td>0</td>\n",
       "      <td>0</td>\n",
       "      <td>0</td>\n",
       "      <td>0</td>\n",
       "      <td>689</td>\n",
       "      <td>0</td>\n",
       "      <td>0</td>\n",
       "      <td>0</td>\n",
       "      <td>0</td>\n",
       "      <td>1</td>\n",
       "    </tr>\n",
       "    <tr>\n",
       "      <td>1</td>\n",
       "      <td>2</td>\n",
       "      <td>120000</td>\n",
       "      <td>2</td>\n",
       "      <td>2</td>\n",
       "      <td>2</td>\n",
       "      <td>26</td>\n",
       "      <td>-1</td>\n",
       "      <td>2</td>\n",
       "      <td>0</td>\n",
       "      <td>0</td>\n",
       "      <td>...</td>\n",
       "      <td>3272</td>\n",
       "      <td>3455</td>\n",
       "      <td>3261</td>\n",
       "      <td>0</td>\n",
       "      <td>1000</td>\n",
       "      <td>1000</td>\n",
       "      <td>1000</td>\n",
       "      <td>0</td>\n",
       "      <td>2000</td>\n",
       "      <td>1</td>\n",
       "    </tr>\n",
       "    <tr>\n",
       "      <td>2</td>\n",
       "      <td>3</td>\n",
       "      <td>90000</td>\n",
       "      <td>2</td>\n",
       "      <td>2</td>\n",
       "      <td>2</td>\n",
       "      <td>34</td>\n",
       "      <td>0</td>\n",
       "      <td>0</td>\n",
       "      <td>0</td>\n",
       "      <td>0</td>\n",
       "      <td>...</td>\n",
       "      <td>14331</td>\n",
       "      <td>14948</td>\n",
       "      <td>15549</td>\n",
       "      <td>1518</td>\n",
       "      <td>1500</td>\n",
       "      <td>1000</td>\n",
       "      <td>1000</td>\n",
       "      <td>1000</td>\n",
       "      <td>5000</td>\n",
       "      <td>0</td>\n",
       "    </tr>\n",
       "    <tr>\n",
       "      <td>3</td>\n",
       "      <td>4</td>\n",
       "      <td>50000</td>\n",
       "      <td>2</td>\n",
       "      <td>2</td>\n",
       "      <td>1</td>\n",
       "      <td>37</td>\n",
       "      <td>0</td>\n",
       "      <td>0</td>\n",
       "      <td>0</td>\n",
       "      <td>0</td>\n",
       "      <td>...</td>\n",
       "      <td>28314</td>\n",
       "      <td>28959</td>\n",
       "      <td>29547</td>\n",
       "      <td>2000</td>\n",
       "      <td>2019</td>\n",
       "      <td>1200</td>\n",
       "      <td>1100</td>\n",
       "      <td>1069</td>\n",
       "      <td>1000</td>\n",
       "      <td>0</td>\n",
       "    </tr>\n",
       "    <tr>\n",
       "      <td>4</td>\n",
       "      <td>5</td>\n",
       "      <td>50000</td>\n",
       "      <td>1</td>\n",
       "      <td>2</td>\n",
       "      <td>1</td>\n",
       "      <td>57</td>\n",
       "      <td>-1</td>\n",
       "      <td>0</td>\n",
       "      <td>-1</td>\n",
       "      <td>0</td>\n",
       "      <td>...</td>\n",
       "      <td>20940</td>\n",
       "      <td>19146</td>\n",
       "      <td>19131</td>\n",
       "      <td>2000</td>\n",
       "      <td>36681</td>\n",
       "      <td>10000</td>\n",
       "      <td>9000</td>\n",
       "      <td>689</td>\n",
       "      <td>679</td>\n",
       "      <td>0</td>\n",
       "    </tr>\n",
       "  </tbody>\n",
       "</table>\n",
       "<p>5 rows × 25 columns</p>\n",
       "</div>"
      ],
      "text/plain": [
       "   ID  LIMIT_BAL  SEX  EDUCATION  MARRIAGE  AGE  Sep_Status  Aug_Status  \\\n",
       "0   1      20000    2          2         1   24           2           2   \n",
       "1   2     120000    2          2         2   26          -1           2   \n",
       "2   3      90000    2          2         2   34           0           0   \n",
       "3   4      50000    2          2         1   37           0           0   \n",
       "4   5      50000    1          2         1   57          -1           0   \n",
       "\n",
       "   July_Status  June_Status  ...  June_Bill  May_Bill  April_Bill  Sep_Paid  \\\n",
       "0           -1           -1  ...          0         0           0         0   \n",
       "1            0            0  ...       3272      3455        3261         0   \n",
       "2            0            0  ...      14331     14948       15549      1518   \n",
       "3            0            0  ...      28314     28959       29547      2000   \n",
       "4           -1            0  ...      20940     19146       19131      2000   \n",
       "\n",
       "   Aug_Paid  July_Paid  June_Paid  May_Paid  April_Paid  \\\n",
       "0       689          0          0         0           0   \n",
       "1      1000       1000       1000         0        2000   \n",
       "2      1500       1000       1000      1000        5000   \n",
       "3      2019       1200       1100      1069        1000   \n",
       "4     36681      10000       9000       689         679   \n",
       "\n",
       "   Default_Payment_Next_Month   \n",
       "0                            1  \n",
       "1                            1  \n",
       "2                            0  \n",
       "3                            0  \n",
       "4                            0  \n",
       "\n",
       "[5 rows x 25 columns]"
      ]
     },
     "execution_count": 123,
     "metadata": {},
     "output_type": "execute_result"
    }
   ],
   "source": [
    "# Check the first 5 rows of the data frame\n",
    "credit.head()"
   ]
  },
  {
   "cell_type": "code",
   "execution_count": 124,
   "metadata": {},
   "outputs": [
    {
     "data": {
      "text/plain": [
       "Index(['ID', 'LIMIT_BAL', 'SEX', 'EDUCATION', 'MARRIAGE', 'AGE', 'Sep_Status',\n",
       "       'Aug_Status', 'July_Status', 'June_Status', 'May_Status',\n",
       "       'April_Status', 'Sep_Bill', 'Aug_Bill', 'July_Bill', 'June_Bill',\n",
       "       'May_Bill', 'April_Bill', 'Sep_Paid', 'Aug_Paid', 'July_Paid',\n",
       "       'June_Paid', 'May_Paid', 'April_Paid', 'Default_Payment_Next_Month '],\n",
       "      dtype='object')"
      ]
     },
     "execution_count": 124,
     "metadata": {},
     "output_type": "execute_result"
    }
   ],
   "source": [
    "# Check for Column Names\n",
    "credit.columns"
   ]
  },
  {
   "cell_type": "code",
   "execution_count": 125,
   "metadata": {},
   "outputs": [
    {
     "data": {
      "text/html": [
       "<div>\n",
       "<style scoped>\n",
       "    .dataframe tbody tr th:only-of-type {\n",
       "        vertical-align: middle;\n",
       "    }\n",
       "\n",
       "    .dataframe tbody tr th {\n",
       "        vertical-align: top;\n",
       "    }\n",
       "\n",
       "    .dataframe thead th {\n",
       "        text-align: right;\n",
       "    }\n",
       "</style>\n",
       "<table border=\"1\" class=\"dataframe\">\n",
       "  <thead>\n",
       "    <tr style=\"text-align: right;\">\n",
       "      <th></th>\n",
       "      <th>ID</th>\n",
       "      <th>LIMIT_BAL</th>\n",
       "      <th>SEX</th>\n",
       "      <th>EDUCATION</th>\n",
       "      <th>MARRIAGE</th>\n",
       "      <th>AGE</th>\n",
       "      <th>Sep_Status</th>\n",
       "      <th>Aug_Status</th>\n",
       "      <th>July_Status</th>\n",
       "      <th>June_Status</th>\n",
       "      <th>...</th>\n",
       "      <th>June_Bill</th>\n",
       "      <th>May_Bill</th>\n",
       "      <th>April_Bill</th>\n",
       "      <th>Sep_Paid</th>\n",
       "      <th>Aug_Paid</th>\n",
       "      <th>July_Paid</th>\n",
       "      <th>June_Paid</th>\n",
       "      <th>May_Paid</th>\n",
       "      <th>April_Paid</th>\n",
       "      <th>Default_Payment_Next_Month</th>\n",
       "    </tr>\n",
       "  </thead>\n",
       "  <tbody>\n",
       "    <tr>\n",
       "      <td>count</td>\n",
       "      <td>30000.000000</td>\n",
       "      <td>30000.000000</td>\n",
       "      <td>30000.000000</td>\n",
       "      <td>30000.000000</td>\n",
       "      <td>30000.000000</td>\n",
       "      <td>30000.000000</td>\n",
       "      <td>30000.000000</td>\n",
       "      <td>30000.000000</td>\n",
       "      <td>30000.000000</td>\n",
       "      <td>30000.000000</td>\n",
       "      <td>...</td>\n",
       "      <td>30000.000000</td>\n",
       "      <td>30000.000000</td>\n",
       "      <td>30000.000000</td>\n",
       "      <td>30000.000000</td>\n",
       "      <td>3.000000e+04</td>\n",
       "      <td>30000.00000</td>\n",
       "      <td>30000.000000</td>\n",
       "      <td>30000.000000</td>\n",
       "      <td>30000.000000</td>\n",
       "      <td>30000.000000</td>\n",
       "    </tr>\n",
       "    <tr>\n",
       "      <td>mean</td>\n",
       "      <td>15000.500000</td>\n",
       "      <td>167484.322667</td>\n",
       "      <td>1.603733</td>\n",
       "      <td>1.853133</td>\n",
       "      <td>1.551867</td>\n",
       "      <td>35.485500</td>\n",
       "      <td>-0.016700</td>\n",
       "      <td>-0.133767</td>\n",
       "      <td>-0.166200</td>\n",
       "      <td>-0.220667</td>\n",
       "      <td>...</td>\n",
       "      <td>43262.948967</td>\n",
       "      <td>40311.400967</td>\n",
       "      <td>38871.760400</td>\n",
       "      <td>5663.580500</td>\n",
       "      <td>5.921163e+03</td>\n",
       "      <td>5225.68150</td>\n",
       "      <td>4826.076867</td>\n",
       "      <td>4799.387633</td>\n",
       "      <td>5215.502567</td>\n",
       "      <td>0.221200</td>\n",
       "    </tr>\n",
       "    <tr>\n",
       "      <td>std</td>\n",
       "      <td>8660.398374</td>\n",
       "      <td>129747.661567</td>\n",
       "      <td>0.489129</td>\n",
       "      <td>0.790349</td>\n",
       "      <td>0.521970</td>\n",
       "      <td>9.217904</td>\n",
       "      <td>1.123802</td>\n",
       "      <td>1.197186</td>\n",
       "      <td>1.196868</td>\n",
       "      <td>1.169139</td>\n",
       "      <td>...</td>\n",
       "      <td>64332.856134</td>\n",
       "      <td>60797.155770</td>\n",
       "      <td>59554.107537</td>\n",
       "      <td>16563.280354</td>\n",
       "      <td>2.304087e+04</td>\n",
       "      <td>17606.96147</td>\n",
       "      <td>15666.159744</td>\n",
       "      <td>15278.305679</td>\n",
       "      <td>17777.465775</td>\n",
       "      <td>0.415062</td>\n",
       "    </tr>\n",
       "    <tr>\n",
       "      <td>min</td>\n",
       "      <td>1.000000</td>\n",
       "      <td>10000.000000</td>\n",
       "      <td>1.000000</td>\n",
       "      <td>0.000000</td>\n",
       "      <td>0.000000</td>\n",
       "      <td>21.000000</td>\n",
       "      <td>-2.000000</td>\n",
       "      <td>-2.000000</td>\n",
       "      <td>-2.000000</td>\n",
       "      <td>-2.000000</td>\n",
       "      <td>...</td>\n",
       "      <td>-170000.000000</td>\n",
       "      <td>-81334.000000</td>\n",
       "      <td>-339603.000000</td>\n",
       "      <td>0.000000</td>\n",
       "      <td>0.000000e+00</td>\n",
       "      <td>0.00000</td>\n",
       "      <td>0.000000</td>\n",
       "      <td>0.000000</td>\n",
       "      <td>0.000000</td>\n",
       "      <td>0.000000</td>\n",
       "    </tr>\n",
       "    <tr>\n",
       "      <td>25%</td>\n",
       "      <td>7500.750000</td>\n",
       "      <td>50000.000000</td>\n",
       "      <td>1.000000</td>\n",
       "      <td>1.000000</td>\n",
       "      <td>1.000000</td>\n",
       "      <td>28.000000</td>\n",
       "      <td>-1.000000</td>\n",
       "      <td>-1.000000</td>\n",
       "      <td>-1.000000</td>\n",
       "      <td>-1.000000</td>\n",
       "      <td>...</td>\n",
       "      <td>2326.750000</td>\n",
       "      <td>1763.000000</td>\n",
       "      <td>1256.000000</td>\n",
       "      <td>1000.000000</td>\n",
       "      <td>8.330000e+02</td>\n",
       "      <td>390.00000</td>\n",
       "      <td>296.000000</td>\n",
       "      <td>252.500000</td>\n",
       "      <td>117.750000</td>\n",
       "      <td>0.000000</td>\n",
       "    </tr>\n",
       "    <tr>\n",
       "      <td>50%</td>\n",
       "      <td>15000.500000</td>\n",
       "      <td>140000.000000</td>\n",
       "      <td>2.000000</td>\n",
       "      <td>2.000000</td>\n",
       "      <td>2.000000</td>\n",
       "      <td>34.000000</td>\n",
       "      <td>0.000000</td>\n",
       "      <td>0.000000</td>\n",
       "      <td>0.000000</td>\n",
       "      <td>0.000000</td>\n",
       "      <td>...</td>\n",
       "      <td>19052.000000</td>\n",
       "      <td>18104.500000</td>\n",
       "      <td>17071.000000</td>\n",
       "      <td>2100.000000</td>\n",
       "      <td>2.009000e+03</td>\n",
       "      <td>1800.00000</td>\n",
       "      <td>1500.000000</td>\n",
       "      <td>1500.000000</td>\n",
       "      <td>1500.000000</td>\n",
       "      <td>0.000000</td>\n",
       "    </tr>\n",
       "    <tr>\n",
       "      <td>75%</td>\n",
       "      <td>22500.250000</td>\n",
       "      <td>240000.000000</td>\n",
       "      <td>2.000000</td>\n",
       "      <td>2.000000</td>\n",
       "      <td>2.000000</td>\n",
       "      <td>41.000000</td>\n",
       "      <td>0.000000</td>\n",
       "      <td>0.000000</td>\n",
       "      <td>0.000000</td>\n",
       "      <td>0.000000</td>\n",
       "      <td>...</td>\n",
       "      <td>54506.000000</td>\n",
       "      <td>50190.500000</td>\n",
       "      <td>49198.250000</td>\n",
       "      <td>5006.000000</td>\n",
       "      <td>5.000000e+03</td>\n",
       "      <td>4505.00000</td>\n",
       "      <td>4013.250000</td>\n",
       "      <td>4031.500000</td>\n",
       "      <td>4000.000000</td>\n",
       "      <td>0.000000</td>\n",
       "    </tr>\n",
       "    <tr>\n",
       "      <td>max</td>\n",
       "      <td>30000.000000</td>\n",
       "      <td>1000000.000000</td>\n",
       "      <td>2.000000</td>\n",
       "      <td>6.000000</td>\n",
       "      <td>3.000000</td>\n",
       "      <td>79.000000</td>\n",
       "      <td>8.000000</td>\n",
       "      <td>8.000000</td>\n",
       "      <td>8.000000</td>\n",
       "      <td>8.000000</td>\n",
       "      <td>...</td>\n",
       "      <td>891586.000000</td>\n",
       "      <td>927171.000000</td>\n",
       "      <td>961664.000000</td>\n",
       "      <td>873552.000000</td>\n",
       "      <td>1.684259e+06</td>\n",
       "      <td>896040.00000</td>\n",
       "      <td>621000.000000</td>\n",
       "      <td>426529.000000</td>\n",
       "      <td>528666.000000</td>\n",
       "      <td>1.000000</td>\n",
       "    </tr>\n",
       "  </tbody>\n",
       "</table>\n",
       "<p>8 rows × 25 columns</p>\n",
       "</div>"
      ],
      "text/plain": [
       "                 ID       LIMIT_BAL           SEX     EDUCATION      MARRIAGE  \\\n",
       "count  30000.000000    30000.000000  30000.000000  30000.000000  30000.000000   \n",
       "mean   15000.500000   167484.322667      1.603733      1.853133      1.551867   \n",
       "std     8660.398374   129747.661567      0.489129      0.790349      0.521970   \n",
       "min        1.000000    10000.000000      1.000000      0.000000      0.000000   \n",
       "25%     7500.750000    50000.000000      1.000000      1.000000      1.000000   \n",
       "50%    15000.500000   140000.000000      2.000000      2.000000      2.000000   \n",
       "75%    22500.250000   240000.000000      2.000000      2.000000      2.000000   \n",
       "max    30000.000000  1000000.000000      2.000000      6.000000      3.000000   \n",
       "\n",
       "                AGE    Sep_Status    Aug_Status   July_Status   June_Status  \\\n",
       "count  30000.000000  30000.000000  30000.000000  30000.000000  30000.000000   \n",
       "mean      35.485500     -0.016700     -0.133767     -0.166200     -0.220667   \n",
       "std        9.217904      1.123802      1.197186      1.196868      1.169139   \n",
       "min       21.000000     -2.000000     -2.000000     -2.000000     -2.000000   \n",
       "25%       28.000000     -1.000000     -1.000000     -1.000000     -1.000000   \n",
       "50%       34.000000      0.000000      0.000000      0.000000      0.000000   \n",
       "75%       41.000000      0.000000      0.000000      0.000000      0.000000   \n",
       "max       79.000000      8.000000      8.000000      8.000000      8.000000   \n",
       "\n",
       "       ...      June_Bill       May_Bill     April_Bill       Sep_Paid  \\\n",
       "count  ...   30000.000000   30000.000000   30000.000000   30000.000000   \n",
       "mean   ...   43262.948967   40311.400967   38871.760400    5663.580500   \n",
       "std    ...   64332.856134   60797.155770   59554.107537   16563.280354   \n",
       "min    ... -170000.000000  -81334.000000 -339603.000000       0.000000   \n",
       "25%    ...    2326.750000    1763.000000    1256.000000    1000.000000   \n",
       "50%    ...   19052.000000   18104.500000   17071.000000    2100.000000   \n",
       "75%    ...   54506.000000   50190.500000   49198.250000    5006.000000   \n",
       "max    ...  891586.000000  927171.000000  961664.000000  873552.000000   \n",
       "\n",
       "           Aug_Paid     July_Paid      June_Paid       May_Paid  \\\n",
       "count  3.000000e+04   30000.00000   30000.000000   30000.000000   \n",
       "mean   5.921163e+03    5225.68150    4826.076867    4799.387633   \n",
       "std    2.304087e+04   17606.96147   15666.159744   15278.305679   \n",
       "min    0.000000e+00       0.00000       0.000000       0.000000   \n",
       "25%    8.330000e+02     390.00000     296.000000     252.500000   \n",
       "50%    2.009000e+03    1800.00000    1500.000000    1500.000000   \n",
       "75%    5.000000e+03    4505.00000    4013.250000    4031.500000   \n",
       "max    1.684259e+06  896040.00000  621000.000000  426529.000000   \n",
       "\n",
       "          April_Paid  Default_Payment_Next_Month   \n",
       "count   30000.000000                 30000.000000  \n",
       "mean     5215.502567                     0.221200  \n",
       "std     17777.465775                     0.415062  \n",
       "min         0.000000                     0.000000  \n",
       "25%       117.750000                     0.000000  \n",
       "50%      1500.000000                     0.000000  \n",
       "75%      4000.000000                     0.000000  \n",
       "max    528666.000000                     1.000000  \n",
       "\n",
       "[8 rows x 25 columns]"
      ]
     },
     "execution_count": 125,
     "metadata": {},
     "output_type": "execute_result"
    }
   ],
   "source": [
    "# To get a general description of dataset\n",
    "credit.describe() "
   ]
  },
  {
   "cell_type": "code",
   "execution_count": 126,
   "metadata": {},
   "outputs": [
    {
     "name": "stdout",
     "output_type": "stream",
     "text": [
      "<class 'pandas.core.frame.DataFrame'>\n",
      "RangeIndex: 30000 entries, 0 to 29999\n",
      "Data columns (total 25 columns):\n",
      "ID                             30000 non-null int64\n",
      "LIMIT_BAL                      30000 non-null int64\n",
      "SEX                            30000 non-null int64\n",
      "EDUCATION                      30000 non-null int64\n",
      "MARRIAGE                       30000 non-null int64\n",
      "AGE                            30000 non-null int64\n",
      "Sep_Status                     30000 non-null int64\n",
      "Aug_Status                     30000 non-null int64\n",
      "July_Status                    30000 non-null int64\n",
      "June_Status                    30000 non-null int64\n",
      "May_Status                     30000 non-null int64\n",
      "April_Status                   30000 non-null int64\n",
      "Sep_Bill                       30000 non-null int64\n",
      "Aug_Bill                       30000 non-null int64\n",
      "July_Bill                      30000 non-null int64\n",
      "June_Bill                      30000 non-null int64\n",
      "May_Bill                       30000 non-null int64\n",
      "April_Bill                     30000 non-null int64\n",
      "Sep_Paid                       30000 non-null int64\n",
      "Aug_Paid                       30000 non-null int64\n",
      "July_Paid                      30000 non-null int64\n",
      "June_Paid                      30000 non-null int64\n",
      "May_Paid                       30000 non-null int64\n",
      "April_Paid                     30000 non-null int64\n",
      "Default_Payment_Next_Month     30000 non-null int64\n",
      "dtypes: int64(25)\n",
      "memory usage: 5.7 MB\n"
     ]
    }
   ],
   "source": [
    "# To check the data type of each variable\n",
    "credit.info() "
   ]
  },
  {
   "cell_type": "code",
   "execution_count": 127,
   "metadata": {},
   "outputs": [
    {
     "data": {
      "text/plain": [
       "ID                             0\n",
       "LIMIT_BAL                      0\n",
       "SEX                            0\n",
       "EDUCATION                      0\n",
       "MARRIAGE                       0\n",
       "AGE                            0\n",
       "Sep_Status                     0\n",
       "Aug_Status                     0\n",
       "July_Status                    0\n",
       "June_Status                    0\n",
       "May_Status                     0\n",
       "April_Status                   0\n",
       "Sep_Bill                       0\n",
       "Aug_Bill                       0\n",
       "July_Bill                      0\n",
       "June_Bill                      0\n",
       "May_Bill                       0\n",
       "April_Bill                     0\n",
       "Sep_Paid                       0\n",
       "Aug_Paid                       0\n",
       "July_Paid                      0\n",
       "June_Paid                      0\n",
       "May_Paid                       0\n",
       "April_Paid                     0\n",
       "Default_Payment_Next_Month     0\n",
       "dtype: int64"
      ]
     },
     "execution_count": 127,
     "metadata": {},
     "output_type": "execute_result"
    }
   ],
   "source": [
    "# Obversation count in each attribute that contains null value\n",
    "credit.isnull().sum()"
   ]
  },
  {
   "cell_type": "code",
   "execution_count": 128,
   "metadata": {},
   "outputs": [
    {
     "name": "stdout",
     "output_type": "stream",
     "text": [
      "Average and median age of customers are 35 and 34 years old, respectively\n"
     ]
    }
   ],
   "source": [
    "print('Average and median age of customers are %0.f and %0.f years old, respectively'%(credit.AGE.mean(), \n",
    "                                                                          credit.AGE.median()))"
   ]
  },
  {
   "cell_type": "code",
   "execution_count": 129,
   "metadata": {},
   "outputs": [
    {
     "data": {
      "text/plain": [
       "count    30000.000000\n",
       "mean        35.485500\n",
       "std          9.217904\n",
       "min         21.000000\n",
       "25%         28.000000\n",
       "50%         34.000000\n",
       "75%         41.000000\n",
       "max         79.000000\n",
       "Name: AGE, dtype: float64"
      ]
     },
     "execution_count": 129,
     "metadata": {},
     "output_type": "execute_result"
    }
   ],
   "source": [
    "credit.AGE.describe()"
   ]
  },
  {
   "cell_type": "markdown",
   "metadata": {},
   "source": [
    "# Perform Exploratory Data Analysis( EDA)\n",
    "## Visualizing the Data"
   ]
  },
  {
   "cell_type": "code",
   "execution_count": 130,
   "metadata": {},
   "outputs": [
    {
     "data": {
      "text/plain": [
       "<matplotlib.axes._subplots.AxesSubplot at 0x27abb6a7088>"
      ]
     },
     "execution_count": 130,
     "metadata": {},
     "output_type": "execute_result"
    },
    {
     "data": {
      "image/png": "[encoded data removed]",
      "text/plain": [
       "<Figure size 432x288 with 1 Axes>"
      ]
     },
     "metadata": {
      "needs_background": "light"
     },
     "output_type": "display_data"
    }
   ],
   "source": [
    "# Plot a histogram of ages \n",
    "credit['AGE'].hist(bins=50)"
   ]
  },
  {
   "cell_type": "code",
   "execution_count": 131,
   "metadata": {},
   "outputs": [
    {
     "data": {
      "text/plain": [
       "<seaborn.axisgrid.FacetGrid at 0x27abb785888>"
      ]
     },
     "execution_count": 131,
     "metadata": {},
     "output_type": "execute_result"
    },
    {
     "data": {
      "image/png": "[encoded data removed]",
      "text/plain": [
       "<Figure size 906.375x216 with 1 Axes>"
      ]
     },
     "metadata": {
      "needs_background": "light"
     },
     "output_type": "display_data"
    }
   ],
   "source": [
    "fig = sns.FacetGrid(credit, hue='SEX', aspect=4)\n",
    "fig.map(sns.kdeplot, 'AGE', shade=True)\n",
    "maximum = credit['AGE'].max()\n",
    "fig.set(xlim=(0,maximum))\n",
    "fig.set(title='Distribution of Age Grouped by Gender')\n",
    "fig.add_legend()"
   ]
  },
  {
   "cell_type": "code",
   "execution_count": 132,
   "metadata": {},
   "outputs": [
    {
     "data": {
      "text/plain": [
       "Default_Payment_Next_Month \n",
       "0    23364\n",
       "1     6636\n",
       "Name: Default_Payment_Next_Month , dtype: int64"
      ]
     },
     "execution_count": 132,
     "metadata": {},
     "output_type": "execute_result"
    }
   ],
   "source": [
    "# Default count   0=not default, 1=default\n",
    "credit.groupby('Default_Payment_Next_Month ')['Default_Payment_Next_Month '].count()"
   ]
  },
  {
   "cell_type": "code",
   "execution_count": 133,
   "metadata": {},
   "outputs": [
    {
     "data": {
      "text/plain": [
       "<seaborn.axisgrid.FacetGrid at 0x27abaedb348>"
      ]
     },
     "execution_count": 133,
     "metadata": {},
     "output_type": "execute_result"
    },
    {
     "data": {
      "image/png": "[encoded data removed]",
      "text/plain": [
       "<Figure size 360x360 with 1 Axes>"
      ]
     },
     "metadata": {
      "needs_background": "light"
     },
     "output_type": "display_data"
    }
   ],
   "source": [
    "# Use seaborn to count default\n",
    "sns.catplot('Default_Payment_Next_Month ', data=credit, kind='count')"
   ]
  },
  {
   "cell_type": "markdown",
   "metadata": {},
   "source": [
    "* Default rate is 22%"
   ]
  },
  {
   "cell_type": "code",
   "execution_count": 147,
   "metadata": {},
   "outputs": [],
   "source": [
    "# Create a function to define those who are younger than 30\n",
    "def young_middle_senior(customer):\n",
    "    age, sex = customer\n",
    "    \n",
    "    if age <=30:\n",
    "        return 'young'\n",
    "    elif age <=65:\n",
    "        return 'middle'\n",
    "    else:\n",
    "        return 'senior'"
   ]
  },
  {
   "cell_type": "code",
   "execution_count": 148,
   "metadata": {},
   "outputs": [],
   "source": [
    "credit['PERSON'] = credit[['AGE', 'SEX']].apply(young_middle_senior, axis=1)"
   ]
  },
  {
   "cell_type": "code",
   "execution_count": 149,
   "metadata": {},
   "outputs": [
    {
     "data": {
      "text/html": [
       "<div>\n",
       "<style scoped>\n",
       "    .dataframe tbody tr th:only-of-type {\n",
       "        vertical-align: middle;\n",
       "    }\n",
       "\n",
       "    .dataframe tbody tr th {\n",
       "        vertical-align: top;\n",
       "    }\n",
       "\n",
       "    .dataframe thead th {\n",
       "        text-align: right;\n",
       "    }\n",
       "</style>\n",
       "<table border=\"1\" class=\"dataframe\">\n",
       "  <thead>\n",
       "    <tr style=\"text-align: right;\">\n",
       "      <th></th>\n",
       "      <th>ID</th>\n",
       "      <th>LIMIT_BAL</th>\n",
       "      <th>SEX</th>\n",
       "      <th>EDUCATION</th>\n",
       "      <th>MARRIAGE</th>\n",
       "      <th>AGE</th>\n",
       "      <th>Sep_Status</th>\n",
       "      <th>Aug_Status</th>\n",
       "      <th>July_Status</th>\n",
       "      <th>June_Status</th>\n",
       "      <th>...</th>\n",
       "      <th>May_Bill</th>\n",
       "      <th>April_Bill</th>\n",
       "      <th>Sep_Paid</th>\n",
       "      <th>Aug_Paid</th>\n",
       "      <th>July_Paid</th>\n",
       "      <th>June_Paid</th>\n",
       "      <th>May_Paid</th>\n",
       "      <th>April_Paid</th>\n",
       "      <th>Default_Payment_Next_Month</th>\n",
       "      <th>PERSON</th>\n",
       "    </tr>\n",
       "  </thead>\n",
       "  <tbody>\n",
       "    <tr>\n",
       "      <td>0</td>\n",
       "      <td>1</td>\n",
       "      <td>20000</td>\n",
       "      <td>2</td>\n",
       "      <td>2</td>\n",
       "      <td>1</td>\n",
       "      <td>24</td>\n",
       "      <td>2</td>\n",
       "      <td>2</td>\n",
       "      <td>-1</td>\n",
       "      <td>-1</td>\n",
       "      <td>...</td>\n",
       "      <td>0</td>\n",
       "      <td>0</td>\n",
       "      <td>0</td>\n",
       "      <td>689</td>\n",
       "      <td>0</td>\n",
       "      <td>0</td>\n",
       "      <td>0</td>\n",
       "      <td>0</td>\n",
       "      <td>1</td>\n",
       "      <td>young</td>\n",
       "    </tr>\n",
       "    <tr>\n",
       "      <td>1</td>\n",
       "      <td>2</td>\n",
       "      <td>120000</td>\n",
       "      <td>2</td>\n",
       "      <td>2</td>\n",
       "      <td>2</td>\n",
       "      <td>26</td>\n",
       "      <td>-1</td>\n",
       "      <td>2</td>\n",
       "      <td>0</td>\n",
       "      <td>0</td>\n",
       "      <td>...</td>\n",
       "      <td>3455</td>\n",
       "      <td>3261</td>\n",
       "      <td>0</td>\n",
       "      <td>1000</td>\n",
       "      <td>1000</td>\n",
       "      <td>1000</td>\n",
       "      <td>0</td>\n",
       "      <td>2000</td>\n",
       "      <td>1</td>\n",
       "      <td>young</td>\n",
       "    </tr>\n",
       "    <tr>\n",
       "      <td>2</td>\n",
       "      <td>3</td>\n",
       "      <td>90000</td>\n",
       "      <td>2</td>\n",
       "      <td>2</td>\n",
       "      <td>2</td>\n",
       "      <td>34</td>\n",
       "      <td>0</td>\n",
       "      <td>0</td>\n",
       "      <td>0</td>\n",
       "      <td>0</td>\n",
       "      <td>...</td>\n",
       "      <td>14948</td>\n",
       "      <td>15549</td>\n",
       "      <td>1518</td>\n",
       "      <td>1500</td>\n",
       "      <td>1000</td>\n",
       "      <td>1000</td>\n",
       "      <td>1000</td>\n",
       "      <td>5000</td>\n",
       "      <td>0</td>\n",
       "      <td>middle</td>\n",
       "    </tr>\n",
       "    <tr>\n",
       "      <td>3</td>\n",
       "      <td>4</td>\n",
       "      <td>50000</td>\n",
       "      <td>2</td>\n",
       "      <td>2</td>\n",
       "      <td>1</td>\n",
       "      <td>37</td>\n",
       "      <td>0</td>\n",
       "      <td>0</td>\n",
       "      <td>0</td>\n",
       "      <td>0</td>\n",
       "      <td>...</td>\n",
       "      <td>28959</td>\n",
       "      <td>29547</td>\n",
       "      <td>2000</td>\n",
       "      <td>2019</td>\n",
       "      <td>1200</td>\n",
       "      <td>1100</td>\n",
       "      <td>1069</td>\n",
       "      <td>1000</td>\n",
       "      <td>0</td>\n",
       "      <td>middle</td>\n",
       "    </tr>\n",
       "    <tr>\n",
       "      <td>4</td>\n",
       "      <td>5</td>\n",
       "      <td>50000</td>\n",
       "      <td>1</td>\n",
       "      <td>2</td>\n",
       "      <td>1</td>\n",
       "      <td>57</td>\n",
       "      <td>-1</td>\n",
       "      <td>0</td>\n",
       "      <td>-1</td>\n",
       "      <td>0</td>\n",
       "      <td>...</td>\n",
       "      <td>19146</td>\n",
       "      <td>19131</td>\n",
       "      <td>2000</td>\n",
       "      <td>36681</td>\n",
       "      <td>10000</td>\n",
       "      <td>9000</td>\n",
       "      <td>689</td>\n",
       "      <td>679</td>\n",
       "      <td>0</td>\n",
       "      <td>middle</td>\n",
       "    </tr>\n",
       "    <tr>\n",
       "      <td>5</td>\n",
       "      <td>6</td>\n",
       "      <td>50000</td>\n",
       "      <td>1</td>\n",
       "      <td>1</td>\n",
       "      <td>2</td>\n",
       "      <td>37</td>\n",
       "      <td>0</td>\n",
       "      <td>0</td>\n",
       "      <td>0</td>\n",
       "      <td>0</td>\n",
       "      <td>...</td>\n",
       "      <td>19619</td>\n",
       "      <td>20024</td>\n",
       "      <td>2500</td>\n",
       "      <td>1815</td>\n",
       "      <td>657</td>\n",
       "      <td>1000</td>\n",
       "      <td>1000</td>\n",
       "      <td>800</td>\n",
       "      <td>0</td>\n",
       "      <td>middle</td>\n",
       "    </tr>\n",
       "    <tr>\n",
       "      <td>6</td>\n",
       "      <td>7</td>\n",
       "      <td>500000</td>\n",
       "      <td>1</td>\n",
       "      <td>1</td>\n",
       "      <td>2</td>\n",
       "      <td>29</td>\n",
       "      <td>0</td>\n",
       "      <td>0</td>\n",
       "      <td>0</td>\n",
       "      <td>0</td>\n",
       "      <td>...</td>\n",
       "      <td>483003</td>\n",
       "      <td>473944</td>\n",
       "      <td>55000</td>\n",
       "      <td>40000</td>\n",
       "      <td>38000</td>\n",
       "      <td>20239</td>\n",
       "      <td>13750</td>\n",
       "      <td>13770</td>\n",
       "      <td>0</td>\n",
       "      <td>young</td>\n",
       "    </tr>\n",
       "    <tr>\n",
       "      <td>7</td>\n",
       "      <td>8</td>\n",
       "      <td>100000</td>\n",
       "      <td>2</td>\n",
       "      <td>2</td>\n",
       "      <td>2</td>\n",
       "      <td>23</td>\n",
       "      <td>0</td>\n",
       "      <td>-1</td>\n",
       "      <td>-1</td>\n",
       "      <td>0</td>\n",
       "      <td>...</td>\n",
       "      <td>-159</td>\n",
       "      <td>567</td>\n",
       "      <td>380</td>\n",
       "      <td>601</td>\n",
       "      <td>0</td>\n",
       "      <td>581</td>\n",
       "      <td>1687</td>\n",
       "      <td>1542</td>\n",
       "      <td>0</td>\n",
       "      <td>young</td>\n",
       "    </tr>\n",
       "    <tr>\n",
       "      <td>8</td>\n",
       "      <td>9</td>\n",
       "      <td>140000</td>\n",
       "      <td>2</td>\n",
       "      <td>3</td>\n",
       "      <td>1</td>\n",
       "      <td>28</td>\n",
       "      <td>0</td>\n",
       "      <td>0</td>\n",
       "      <td>2</td>\n",
       "      <td>0</td>\n",
       "      <td>...</td>\n",
       "      <td>11793</td>\n",
       "      <td>3719</td>\n",
       "      <td>3329</td>\n",
       "      <td>0</td>\n",
       "      <td>432</td>\n",
       "      <td>1000</td>\n",
       "      <td>1000</td>\n",
       "      <td>1000</td>\n",
       "      <td>0</td>\n",
       "      <td>young</td>\n",
       "    </tr>\n",
       "    <tr>\n",
       "      <td>9</td>\n",
       "      <td>10</td>\n",
       "      <td>20000</td>\n",
       "      <td>1</td>\n",
       "      <td>3</td>\n",
       "      <td>2</td>\n",
       "      <td>35</td>\n",
       "      <td>-2</td>\n",
       "      <td>-2</td>\n",
       "      <td>-2</td>\n",
       "      <td>-2</td>\n",
       "      <td>...</td>\n",
       "      <td>13007</td>\n",
       "      <td>13912</td>\n",
       "      <td>0</td>\n",
       "      <td>0</td>\n",
       "      <td>0</td>\n",
       "      <td>13007</td>\n",
       "      <td>1122</td>\n",
       "      <td>0</td>\n",
       "      <td>0</td>\n",
       "      <td>middle</td>\n",
       "    </tr>\n",
       "  </tbody>\n",
       "</table>\n",
       "<p>10 rows × 26 columns</p>\n",
       "</div>"
      ],
      "text/plain": [
       "   ID  LIMIT_BAL  SEX  EDUCATION  MARRIAGE  AGE  Sep_Status  Aug_Status  \\\n",
       "0   1      20000    2          2         1   24           2           2   \n",
       "1   2     120000    2          2         2   26          -1           2   \n",
       "2   3      90000    2          2         2   34           0           0   \n",
       "3   4      50000    2          2         1   37           0           0   \n",
       "4   5      50000    1          2         1   57          -1           0   \n",
       "5   6      50000    1          1         2   37           0           0   \n",
       "6   7     500000    1          1         2   29           0           0   \n",
       "7   8     100000    2          2         2   23           0          -1   \n",
       "8   9     140000    2          3         1   28           0           0   \n",
       "9  10      20000    1          3         2   35          -2          -2   \n",
       "\n",
       "   July_Status  June_Status  ...  May_Bill  April_Bill  Sep_Paid  Aug_Paid  \\\n",
       "0           -1           -1  ...         0           0         0       689   \n",
       "1            0            0  ...      3455        3261         0      1000   \n",
       "2            0            0  ...     14948       15549      1518      1500   \n",
       "3            0            0  ...     28959       29547      2000      2019   \n",
       "4           -1            0  ...     19146       19131      2000     36681   \n",
       "5            0            0  ...     19619       20024      2500      1815   \n",
       "6            0            0  ...    483003      473944     55000     40000   \n",
       "7           -1            0  ...      -159         567       380       601   \n",
       "8            2            0  ...     11793        3719      3329         0   \n",
       "9           -2           -2  ...     13007       13912         0         0   \n",
       "\n",
       "   July_Paid  June_Paid  May_Paid  April_Paid  Default_Payment_Next_Month   \\\n",
       "0          0          0         0           0                            1   \n",
       "1       1000       1000         0        2000                            1   \n",
       "2       1000       1000      1000        5000                            0   \n",
       "3       1200       1100      1069        1000                            0   \n",
       "4      10000       9000       689         679                            0   \n",
       "5        657       1000      1000         800                            0   \n",
       "6      38000      20239     13750       13770                            0   \n",
       "7          0        581      1687        1542                            0   \n",
       "8        432       1000      1000        1000                            0   \n",
       "9          0      13007      1122           0                            0   \n",
       "\n",
       "   PERSON  \n",
       "0   young  \n",
       "1   young  \n",
       "2  middle  \n",
       "3  middle  \n",
       "4  middle  \n",
       "5  middle  \n",
       "6   young  \n",
       "7   young  \n",
       "8   young  \n",
       "9  middle  \n",
       "\n",
       "[10 rows x 26 columns]"
      ]
     },
     "execution_count": 149,
     "metadata": {},
     "output_type": "execute_result"
    }
   ],
   "source": [
    "# Lets have a look at the first 10 rows of the data frame\n",
    "credit[:10]"
   ]
  },
  {
   "cell_type": "code",
   "execution_count": 150,
   "metadata": {},
   "outputs": [
    {
     "data": {
      "text/plain": [
       "<seaborn.axisgrid.FacetGrid at 0x27abdee8d08>"
      ]
     },
     "execution_count": 150,
     "metadata": {},
     "output_type": "execute_result"
    },
    {
     "data": {
      "image/png": "[encoded data removed]",
      "text/plain": [
       "<Figure size 1015.25x180 with 2 Axes>"
      ]
     },
     "metadata": {
      "needs_background": "light"
     },
     "output_type": "display_data"
    }
   ],
   "source": [
    "# Lets do a catplot of customers splitted into age and education\n",
    "sns.catplot('EDUCATION', data=credit, kind='count', hue='PERSON', col= 'Default_Payment_Next_Month ',\n",
    "            hue_order=['young','middle','senior'], col_wrap=3, aspect=1.75, size=2.5)"
   ]
  },
  {
   "cell_type": "markdown",
   "metadata": {},
   "source": [
    "# Data Discretization"
   ]
  },
  {
   "cell_type": "code",
   "execution_count": 151,
   "metadata": {},
   "outputs": [],
   "source": [
    "# Drop ID column\n",
    "credit = credit.drop('ID', 1)"
   ]
  },
  {
   "cell_type": "code",
   "execution_count": 152,
   "metadata": {},
   "outputs": [],
   "source": [
    "# Categorize age into 4 bins\n",
    "credit['AGE'] = pd.cut(x=credit['AGE'], bins=[20,35,50,65,80], labels=[1,2,3,4])"
   ]
  },
  {
   "cell_type": "code",
   "execution_count": 153,
   "metadata": {},
   "outputs": [
    {
     "data": {
      "text/plain": [
       "1    16809\n",
       "2    10922\n",
       "3     2183\n",
       "4       86\n",
       "Name: AGE, dtype: int64"
      ]
     },
     "execution_count": 153,
     "metadata": {},
     "output_type": "execute_result"
    }
   ],
   "source": [
    "credit['AGE'].value_counts()"
   ]
  },
  {
   "cell_type": "code",
   "execution_count": 154,
   "metadata": {},
   "outputs": [],
   "source": [
    "# Change data type of AGE from categorical to numerical\n",
    "credit['AGE'] = credit['AGE'].cat.codes"
   ]
  },
  {
   "cell_type": "code",
   "execution_count": 155,
   "metadata": {},
   "outputs": [],
   "source": [
    "# Replace 4,5,6 with 0 for Education Column\n",
    "credit['EDUCATION'] = credit['EDUCATION'].replace([4,5,6], 0)"
   ]
  },
  {
   "cell_type": "code",
   "execution_count": 156,
   "metadata": {},
   "outputs": [
    {
     "data": {
      "text/plain": [
       "2    14030\n",
       "1    10585\n",
       "3     4917\n",
       "0      468\n",
       "Name: EDUCATION, dtype: int64"
      ]
     },
     "execution_count": 156,
     "metadata": {},
     "output_type": "execute_result"
    }
   ],
   "source": [
    "credit['EDUCATION'].value_counts()"
   ]
  },
  {
   "cell_type": "code",
   "execution_count": 157,
   "metadata": {},
   "outputs": [
    {
     "data": {
      "text/plain": [
       "0    16809\n",
       "1    10922\n",
       "2     2183\n",
       "3       86\n",
       "Name: AGE, dtype: int64"
      ]
     },
     "execution_count": 157,
     "metadata": {},
     "output_type": "execute_result"
    }
   ],
   "source": [
    "# Check the age count again after changing to numerial data\n",
    "credit['AGE'].value_counts()"
   ]
  },
  {
   "cell_type": "code",
   "execution_count": 158,
   "metadata": {},
   "outputs": [
    {
     "name": "stdout",
     "output_type": "stream",
     "text": [
      "<class 'pandas.core.frame.DataFrame'>\n",
      "RangeIndex: 30000 entries, 0 to 29999\n",
      "Data columns (total 25 columns):\n",
      "LIMIT_BAL                      30000 non-null int64\n",
      "SEX                            30000 non-null int64\n",
      "EDUCATION                      30000 non-null int64\n",
      "MARRIAGE                       30000 non-null int64\n",
      "AGE                            30000 non-null int8\n",
      "Sep_Status                     30000 non-null int64\n",
      "Aug_Status                     30000 non-null int64\n",
      "July_Status                    30000 non-null int64\n",
      "June_Status                    30000 non-null int64\n",
      "May_Status                     30000 non-null int64\n",
      "April_Status                   30000 non-null int64\n",
      "Sep_Bill                       30000 non-null int64\n",
      "Aug_Bill                       30000 non-null int64\n",
      "July_Bill                      30000 non-null int64\n",
      "June_Bill                      30000 non-null int64\n",
      "May_Bill                       30000 non-null int64\n",
      "April_Bill                     30000 non-null int64\n",
      "Sep_Paid                       30000 non-null int64\n",
      "Aug_Paid                       30000 non-null int64\n",
      "July_Paid                      30000 non-null int64\n",
      "June_Paid                      30000 non-null int64\n",
      "May_Paid                       30000 non-null int64\n",
      "April_Paid                     30000 non-null int64\n",
      "Default_Payment_Next_Month     30000 non-null int64\n",
      "PERSON                         30000 non-null object\n",
      "dtypes: int64(23), int8(1), object(1)\n",
      "memory usage: 5.5+ MB\n"
     ]
    }
   ],
   "source": [
    "credit.info()"
   ]
  },
  {
   "cell_type": "code",
   "execution_count": 159,
   "metadata": {},
   "outputs": [
    {
     "data": {
      "text/html": [
       "<div>\n",
       "<style scoped>\n",
       "    .dataframe tbody tr th:only-of-type {\n",
       "        vertical-align: middle;\n",
       "    }\n",
       "\n",
       "    .dataframe tbody tr th {\n",
       "        vertical-align: top;\n",
       "    }\n",
       "\n",
       "    .dataframe thead th {\n",
       "        text-align: right;\n",
       "    }\n",
       "</style>\n",
       "<table border=\"1\" class=\"dataframe\">\n",
       "  <thead>\n",
       "    <tr style=\"text-align: right;\">\n",
       "      <th></th>\n",
       "      <th>LIMIT_BAL</th>\n",
       "      <th>SEX</th>\n",
       "      <th>EDUCATION</th>\n",
       "      <th>MARRIAGE</th>\n",
       "      <th>AGE</th>\n",
       "      <th>Sep_Status</th>\n",
       "      <th>Aug_Status</th>\n",
       "      <th>July_Status</th>\n",
       "      <th>June_Status</th>\n",
       "      <th>May_Status</th>\n",
       "      <th>...</th>\n",
       "      <th>May_Bill</th>\n",
       "      <th>April_Bill</th>\n",
       "      <th>Sep_Paid</th>\n",
       "      <th>Aug_Paid</th>\n",
       "      <th>July_Paid</th>\n",
       "      <th>June_Paid</th>\n",
       "      <th>May_Paid</th>\n",
       "      <th>April_Paid</th>\n",
       "      <th>Default_Payment_Next_Month</th>\n",
       "      <th>PERSON</th>\n",
       "    </tr>\n",
       "  </thead>\n",
       "  <tbody>\n",
       "    <tr>\n",
       "      <td>0</td>\n",
       "      <td>20000</td>\n",
       "      <td>2</td>\n",
       "      <td>2</td>\n",
       "      <td>1</td>\n",
       "      <td>0</td>\n",
       "      <td>2</td>\n",
       "      <td>2</td>\n",
       "      <td>-1</td>\n",
       "      <td>-1</td>\n",
       "      <td>-2</td>\n",
       "      <td>...</td>\n",
       "      <td>0</td>\n",
       "      <td>0</td>\n",
       "      <td>0</td>\n",
       "      <td>689</td>\n",
       "      <td>0</td>\n",
       "      <td>0</td>\n",
       "      <td>0</td>\n",
       "      <td>0</td>\n",
       "      <td>1</td>\n",
       "      <td>young</td>\n",
       "    </tr>\n",
       "    <tr>\n",
       "      <td>1</td>\n",
       "      <td>120000</td>\n",
       "      <td>2</td>\n",
       "      <td>2</td>\n",
       "      <td>2</td>\n",
       "      <td>0</td>\n",
       "      <td>-1</td>\n",
       "      <td>2</td>\n",
       "      <td>0</td>\n",
       "      <td>0</td>\n",
       "      <td>0</td>\n",
       "      <td>...</td>\n",
       "      <td>3455</td>\n",
       "      <td>3261</td>\n",
       "      <td>0</td>\n",
       "      <td>1000</td>\n",
       "      <td>1000</td>\n",
       "      <td>1000</td>\n",
       "      <td>0</td>\n",
       "      <td>2000</td>\n",
       "      <td>1</td>\n",
       "      <td>young</td>\n",
       "    </tr>\n",
       "    <tr>\n",
       "      <td>2</td>\n",
       "      <td>90000</td>\n",
       "      <td>2</td>\n",
       "      <td>2</td>\n",
       "      <td>2</td>\n",
       "      <td>0</td>\n",
       "      <td>0</td>\n",
       "      <td>0</td>\n",
       "      <td>0</td>\n",
       "      <td>0</td>\n",
       "      <td>0</td>\n",
       "      <td>...</td>\n",
       "      <td>14948</td>\n",
       "      <td>15549</td>\n",
       "      <td>1518</td>\n",
       "      <td>1500</td>\n",
       "      <td>1000</td>\n",
       "      <td>1000</td>\n",
       "      <td>1000</td>\n",
       "      <td>5000</td>\n",
       "      <td>0</td>\n",
       "      <td>middle</td>\n",
       "    </tr>\n",
       "    <tr>\n",
       "      <td>3</td>\n",
       "      <td>50000</td>\n",
       "      <td>2</td>\n",
       "      <td>2</td>\n",
       "      <td>1</td>\n",
       "      <td>1</td>\n",
       "      <td>0</td>\n",
       "      <td>0</td>\n",
       "      <td>0</td>\n",
       "      <td>0</td>\n",
       "      <td>0</td>\n",
       "      <td>...</td>\n",
       "      <td>28959</td>\n",
       "      <td>29547</td>\n",
       "      <td>2000</td>\n",
       "      <td>2019</td>\n",
       "      <td>1200</td>\n",
       "      <td>1100</td>\n",
       "      <td>1069</td>\n",
       "      <td>1000</td>\n",
       "      <td>0</td>\n",
       "      <td>middle</td>\n",
       "    </tr>\n",
       "    <tr>\n",
       "      <td>4</td>\n",
       "      <td>50000</td>\n",
       "      <td>1</td>\n",
       "      <td>2</td>\n",
       "      <td>1</td>\n",
       "      <td>2</td>\n",
       "      <td>-1</td>\n",
       "      <td>0</td>\n",
       "      <td>-1</td>\n",
       "      <td>0</td>\n",
       "      <td>0</td>\n",
       "      <td>...</td>\n",
       "      <td>19146</td>\n",
       "      <td>19131</td>\n",
       "      <td>2000</td>\n",
       "      <td>36681</td>\n",
       "      <td>10000</td>\n",
       "      <td>9000</td>\n",
       "      <td>689</td>\n",
       "      <td>679</td>\n",
       "      <td>0</td>\n",
       "      <td>middle</td>\n",
       "    </tr>\n",
       "  </tbody>\n",
       "</table>\n",
       "<p>5 rows × 25 columns</p>\n",
       "</div>"
      ],
      "text/plain": [
       "   LIMIT_BAL  SEX  EDUCATION  MARRIAGE  AGE  Sep_Status  Aug_Status  \\\n",
       "0      20000    2          2         1    0           2           2   \n",
       "1     120000    2          2         2    0          -1           2   \n",
       "2      90000    2          2         2    0           0           0   \n",
       "3      50000    2          2         1    1           0           0   \n",
       "4      50000    1          2         1    2          -1           0   \n",
       "\n",
       "   July_Status  June_Status  May_Status  ...  May_Bill  April_Bill  Sep_Paid  \\\n",
       "0           -1           -1          -2  ...         0           0         0   \n",
       "1            0            0           0  ...      3455        3261         0   \n",
       "2            0            0           0  ...     14948       15549      1518   \n",
       "3            0            0           0  ...     28959       29547      2000   \n",
       "4           -1            0           0  ...     19146       19131      2000   \n",
       "\n",
       "   Aug_Paid  July_Paid  June_Paid  May_Paid  April_Paid  \\\n",
       "0       689          0          0         0           0   \n",
       "1      1000       1000       1000         0        2000   \n",
       "2      1500       1000       1000      1000        5000   \n",
       "3      2019       1200       1100      1069        1000   \n",
       "4     36681      10000       9000       689         679   \n",
       "\n",
       "   Default_Payment_Next_Month   PERSON  \n",
       "0                            1   young  \n",
       "1                            1   young  \n",
       "2                            0  middle  \n",
       "3                            0  middle  \n",
       "4                            0  middle  \n",
       "\n",
       "[5 rows x 25 columns]"
      ]
     },
     "execution_count": 159,
     "metadata": {},
     "output_type": "execute_result"
    }
   ],
   "source": [
    "credit.head()"
   ]
  },
  {
   "cell_type": "code",
   "execution_count": 160,
   "metadata": {},
   "outputs": [
    {
     "data": {
      "text/plain": [
       "AGE\n",
       "0    16809\n",
       "1    10922\n",
       "2     2183\n",
       "3       86\n",
       "Name: AGE, dtype: int64"
      ]
     },
     "execution_count": 160,
     "metadata": {},
     "output_type": "execute_result"
    }
   ],
   "source": [
    "# Number of people in each age group\n",
    "credit.groupby('AGE')['AGE'].count()"
   ]
  },
  {
   "cell_type": "code",
   "execution_count": 161,
   "metadata": {},
   "outputs": [
    {
     "data": {
      "image/png": "[encoded data removed]",
      "text/plain": [
       "<Figure size 450x360 with 1 Axes>"
      ]
     },
     "metadata": {
      "needs_background": "light"
     },
     "output_type": "display_data"
    }
   ],
   "source": [
    "# Instead of a group by, use seaborn to plot the count of AGE in each class\n",
    "fg = sns.catplot('AGE', data=credit, kind='count', aspect=1.25)"
   ]
  },
  {
   "cell_type": "code",
   "execution_count": 162,
   "metadata": {},
   "outputs": [
    {
     "data": {
      "text/plain": [
       "<seaborn.axisgrid.FacetGrid at 0x27ac06a9288>"
      ]
     },
     "execution_count": 162,
     "metadata": {},
     "output_type": "execute_result"
    },
    {
     "data": {
      "image/png": "[encoded data removed]",
      "text/plain": [
       "<Figure size 450x360 with 1 Axes>"
      ]
     },
     "metadata": {
      "needs_background": "light"
     },
     "output_type": "display_data"
    }
   ],
   "source": [
    "# Instead of a group by, use seaborn to plot the number of males and females\n",
    "sns.catplot('SEX', data=credit, kind='count', aspect=1.25)"
   ]
  },
  {
   "cell_type": "code",
   "execution_count": 163,
   "metadata": {},
   "outputs": [
    {
     "data": {
      "text/plain": [
       "Text(0.5, 0.98, 'EDUCATION Vs. SEX COUNT')"
      ]
     },
     "execution_count": 163,
     "metadata": {},
     "output_type": "execute_result"
    },
    {
     "data": {
      "image/png": "[encoded data removed]",
      "text/plain": [
       "<Figure size 492.375x360 with 1 Axes>"
      ]
     },
     "metadata": {
      "needs_background": "light"
     },
     "output_type": "display_data"
    }
   ],
   "source": [
    "# Again use seaborn to group by sex and age\n",
    "g = sns.catplot('EDUCATION', data=credit, hue='SEX', kind='count', aspect=1.25)\n",
    "g.set_xlabels('EDUCATION')\n",
    "g.fig.suptitle('EDUCATION Vs. SEX COUNT')"
   ]
  },
  {
   "cell_type": "markdown",
   "metadata": {},
   "source": [
    "* Females seem to have higher education level in each education category"
   ]
  },
  {
   "cell_type": "code",
   "execution_count": 4,
   "metadata": {},
   "outputs": [
    {
     "name": "stdout",
     "output_type": "stream",
     "text": [
      "                                   ID  LIMIT_BAL       SEX  EDUCATION  \\\n",
      "ID                           1.000000   0.026179  0.018497   0.039177   \n",
      "LIMIT_BAL                    0.026179   1.000000  0.024755  -0.219161   \n",
      "SEX                          0.018497   0.024755  1.000000   0.014232   \n",
      "EDUCATION                    0.039177  -0.219161  0.014232   1.000000   \n",
      "MARRIAGE                    -0.029079  -0.108139 -0.031389  -0.143464   \n",
      "AGE                          0.018678   0.144713 -0.090874   0.175061   \n",
      "Sep_Status                  -0.030575  -0.271214 -0.057643   0.105364   \n",
      "Aug_Status                  -0.011215  -0.296382 -0.070771   0.121566   \n",
      "July_Status                 -0.018494  -0.286123 -0.066096   0.114025   \n",
      "June_Status                 -0.002735  -0.267460 -0.060173   0.108793   \n",
      "May_Status                  -0.022199  -0.249411 -0.055064   0.097520   \n",
      "April_Status                -0.020270  -0.235195 -0.044008   0.082316   \n",
      "Sep_Bill                     0.019389   0.285430 -0.033642   0.023581   \n",
      "Aug_Bill                     0.017982   0.278314 -0.031183   0.018749   \n",
      "July_Bill                    0.024354   0.283236 -0.024563   0.013002   \n",
      "June_Bill                    0.040351   0.293988 -0.021880  -0.000451   \n",
      "May_Bill                     0.016705   0.295562 -0.017005  -0.007567   \n",
      "April_Bill                   0.016730   0.290389 -0.016733  -0.009099   \n",
      "Sep_Paid                     0.009742   0.195236 -0.000242  -0.037456   \n",
      "Aug_Paid                     0.008406   0.178408 -0.001391  -0.030038   \n",
      "July_Paid                    0.039151   0.210167 -0.008597  -0.039943   \n",
      "June_Paid                    0.007793   0.203242 -0.002229  -0.038218   \n",
      "May_Paid                     0.000652   0.217202 -0.001667  -0.040358   \n",
      "April_Paid                   0.003000   0.219595 -0.002766  -0.037200   \n",
      "Default_Payment_Next_Month  -0.013952  -0.153520 -0.039961   0.028006   \n",
      "\n",
      "                             MARRIAGE       AGE  Sep_Status  Aug_Status  \\\n",
      "ID                          -0.029079  0.018678   -0.030575   -0.011215   \n",
      "LIMIT_BAL                   -0.108139  0.144713   -0.271214   -0.296382   \n",
      "SEX                         -0.031389 -0.090874   -0.057643   -0.070771   \n",
      "EDUCATION                   -0.143464  0.175061    0.105364    0.121566   \n",
      "MARRIAGE                     1.000000 -0.414170    0.019917    0.024199   \n",
      "AGE                         -0.414170  1.000000   -0.039447   -0.050148   \n",
      "Sep_Status                   0.019917 -0.039447    1.000000    0.672164   \n",
      "Aug_Status                   0.024199 -0.050148    0.672164    1.000000   \n",
      "July_Status                  0.032688 -0.053048    0.574245    0.766552   \n",
      "June_Status                  0.033122 -0.049722    0.538841    0.662067   \n",
      "May_Status                   0.035629 -0.053826    0.509426    0.622780   \n",
      "April_Status                 0.034345 -0.048773    0.474553    0.575501   \n",
      "Sep_Bill                    -0.023472  0.056239    0.187068    0.234887   \n",
      "Aug_Bill                    -0.021602  0.054283    0.189859    0.235257   \n",
      "July_Bill                   -0.024909  0.053710    0.179785    0.224146   \n",
      "June_Bill                   -0.023344  0.051353    0.179125    0.222237   \n",
      "May_Bill                    -0.025393  0.049345    0.180635    0.221348   \n",
      "April_Bill                  -0.021207  0.047613    0.176980    0.219403   \n",
      "Sep_Paid                    -0.005979  0.026147   -0.079269   -0.080701   \n",
      "Aug_Paid                    -0.008093  0.021785   -0.070101   -0.058990   \n",
      "July_Paid                   -0.003541  0.029247   -0.070561   -0.055901   \n",
      "June_Paid                   -0.012659  0.021379   -0.064005   -0.046858   \n",
      "May_Paid                    -0.001205  0.022850   -0.058190   -0.037093   \n",
      "April_Paid                  -0.006641  0.019478   -0.058673   -0.036500   \n",
      "Default_Payment_Next_Month  -0.024339  0.013890    0.324794    0.263551   \n",
      "\n",
      "                             July_Status  June_Status  ...  June_Bill  \\\n",
      "ID                             -0.018494    -0.002735  ...   0.040351   \n",
      "LIMIT_BAL                      -0.286123    -0.267460  ...   0.293988   \n",
      "SEX                            -0.066096    -0.060173  ...  -0.021880   \n",
      "EDUCATION                       0.114025     0.108793  ...  -0.000451   \n",
      "MARRIAGE                        0.032688     0.033122  ...  -0.023344   \n",
      "AGE                            -0.053048    -0.049722  ...   0.051353   \n",
      "Sep_Status                      0.574245     0.538841  ...   0.179125   \n",
      "Aug_Status                      0.766552     0.662067  ...   0.222237   \n",
      "July_Status                     1.000000     0.777359  ...   0.227202   \n",
      "June_Status                     0.777359     1.000000  ...   0.245917   \n",
      "May_Status                      0.686775     0.819835  ...   0.271915   \n",
      "April_Status                    0.632684     0.716449  ...   0.266356   \n",
      "Sep_Bill                        0.208473     0.202812  ...   0.860272   \n",
      "Aug_Bill                        0.237295     0.225816  ...   0.892482   \n",
      "July_Bill                       0.227494     0.244983  ...   0.923969   \n",
      "June_Bill                       0.227202     0.245917  ...   1.000000   \n",
      "May_Bill                        0.225145     0.242902  ...   0.940134   \n",
      "April_Bill                      0.222327     0.239154  ...   0.900941   \n",
      "Sep_Paid                        0.001295    -0.009362  ...   0.233012   \n",
      "Aug_Paid                       -0.066793    -0.001944  ...   0.207564   \n",
      "July_Paid                      -0.053311    -0.069235  ...   0.300023   \n",
      "June_Paid                      -0.046067    -0.043461  ...   0.130191   \n",
      "May_Paid                       -0.035863    -0.033590  ...   0.160433   \n",
      "April_Paid                     -0.035861    -0.026565  ...   0.177637   \n",
      "Default_Payment_Next_Month      0.235253     0.216614  ...  -0.010156   \n",
      "\n",
      "                             May_Bill  April_Bill  Sep_Paid  Aug_Paid  \\\n",
      "ID                           0.016705    0.016730  0.009742  0.008406   \n",
      "LIMIT_BAL                    0.295562    0.290389  0.195236  0.178408   \n",
      "SEX                         -0.017005   -0.016733 -0.000242 -0.001391   \n",
      "EDUCATION                   -0.007567   -0.009099 -0.037456 -0.030038   \n",
      "MARRIAGE                    -0.025393   -0.021207 -0.005979 -0.008093   \n",
      "AGE                          0.049345    0.047613  0.026147  0.021785   \n",
      "Sep_Status                   0.180635    0.176980 -0.079269 -0.070101   \n",
      "Aug_Status                   0.221348    0.219403 -0.080701 -0.058990   \n",
      "July_Status                  0.225145    0.222327  0.001295 -0.066793   \n",
      "June_Status                  0.242902    0.239154 -0.009362 -0.001944   \n",
      "May_Status                   0.269783    0.262509 -0.006089 -0.003191   \n",
      "April_Status                 0.290894    0.285091 -0.001496 -0.005223   \n",
      "Sep_Bill                     0.829779    0.802650  0.140277  0.099355   \n",
      "Aug_Bill                     0.859778    0.831594  0.280365  0.100851   \n",
      "July_Bill                    0.883910    0.853320  0.244335  0.316936   \n",
      "June_Bill                    0.940134    0.900941  0.233012  0.207564   \n",
      "May_Bill                     1.000000    0.946197  0.217031  0.181246   \n",
      "April_Bill                   0.946197    1.000000  0.199965  0.172663   \n",
      "Sep_Paid                     0.217031    0.199965  1.000000  0.285576   \n",
      "Aug_Paid                     0.181246    0.172663  0.285576  1.000000   \n",
      "July_Paid                    0.252305    0.233770  0.252191  0.244770   \n",
      "June_Paid                    0.293118    0.250237  0.199558  0.180107   \n",
      "May_Paid                     0.141574    0.307729  0.148459  0.180908   \n",
      "April_Paid                   0.164184    0.115494  0.185735  0.157634   \n",
      "Default_Payment_Next_Month  -0.006760   -0.005372 -0.072929 -0.058579   \n",
      "\n",
      "                             July_Paid  June_Paid  May_Paid  April_Paid  \\\n",
      "ID                            0.039151   0.007793  0.000652    0.003000   \n",
      "LIMIT_BAL                     0.210167   0.203242  0.217202    0.219595   \n",
      "SEX                          -0.008597  -0.002229 -0.001667   -0.002766   \n",
      "EDUCATION                    -0.039943  -0.038218 -0.040358   -0.037200   \n",
      "MARRIAGE                     -0.003541  -0.012659 -0.001205   -0.006641   \n",
      "AGE                           0.029247   0.021379  0.022850    0.019478   \n",
      "Sep_Status                   -0.070561  -0.064005 -0.058190   -0.058673   \n",
      "Aug_Status                   -0.055901  -0.046858 -0.037093   -0.036500   \n",
      "July_Status                  -0.053311  -0.046067 -0.035863   -0.035861   \n",
      "June_Status                  -0.069235  -0.043461 -0.033590   -0.026565   \n",
      "May_Status                    0.009062  -0.058299 -0.033337   -0.023027   \n",
      "April_Status                  0.005834   0.019018 -0.046434   -0.025299   \n",
      "Sep_Bill                      0.156887   0.158303  0.167026    0.179341   \n",
      "Aug_Bill                      0.150718   0.147398  0.157957    0.174256   \n",
      "July_Bill                     0.130011   0.143405  0.179712    0.182326   \n",
      "June_Bill                     0.300023   0.130191  0.160433    0.177637   \n",
      "May_Bill                      0.252305   0.293118  0.141574    0.164184   \n",
      "April_Bill                    0.233770   0.250237  0.307729    0.115494   \n",
      "Sep_Paid                      0.252191   0.199558  0.148459    0.185735   \n",
      "Aug_Paid                      0.244770   0.180107  0.180908    0.157634   \n",
      "July_Paid                     1.000000   0.216325  0.159214    0.162740   \n",
      "June_Paid                     0.216325   1.000000  0.151830    0.157834   \n",
      "May_Paid                      0.159214   0.151830  1.000000    0.154896   \n",
      "April_Paid                    0.162740   0.157834  0.154896    1.000000   \n",
      "Default_Payment_Next_Month   -0.056250  -0.056827 -0.055124   -0.053183   \n",
      "\n",
      "                             Default_Payment_Next_Month   \n",
      "ID                                             -0.013952  \n",
      "LIMIT_BAL                                      -0.153520  \n",
      "SEX                                            -0.039961  \n",
      "EDUCATION                                       0.028006  \n",
      "MARRIAGE                                       -0.024339  \n",
      "AGE                                             0.013890  \n",
      "Sep_Status                                      0.324794  \n",
      "Aug_Status                                      0.263551  \n",
      "July_Status                                     0.235253  \n",
      "June_Status                                     0.216614  \n",
      "May_Status                                      0.204149  \n",
      "April_Status                                    0.186866  \n",
      "Sep_Bill                                       -0.019644  \n",
      "Aug_Bill                                       -0.014193  \n",
      "July_Bill                                      -0.014076  \n",
      "June_Bill                                      -0.010156  \n",
      "May_Bill                                       -0.006760  \n",
      "April_Bill                                     -0.005372  \n",
      "Sep_Paid                                       -0.072929  \n",
      "Aug_Paid                                       -0.058579  \n",
      "July_Paid                                      -0.056250  \n",
      "June_Paid                                      -0.056827  \n",
      "May_Paid                                       -0.055124  \n",
      "April_Paid                                     -0.053183  \n",
      "Default_Payment_Next_Month                      1.000000  \n",
      "\n",
      "[25 rows x 25 columns]\n"
     ]
    }
   ],
   "source": [
    "# Correlation Matrix \n",
    "corrMat = credit.corr()\n",
    "print(corrMat)"
   ]
  },
  {
   "cell_type": "code",
   "execution_count": 93,
   "metadata": {},
   "outputs": [
    {
     "data": {
      "text/plain": [
       "<matplotlib.axes._subplots.AxesSubplot at 0x25c38c3aa88>"
      ]
     },
     "execution_count": 93,
     "metadata": {},
     "output_type": "execute_result"
    },
    {
     "data": {
      "image/png": "[encoded data removed]",
      "text/plain": [
       "<Figure size 720x360 with 2 Axes>"
      ]
     },
     "metadata": {
      "needs_background": "light"
     },
     "output_type": "display_data"
    }
   ],
   "source": [
    "plt.figure(figsize = (10,5))\n",
    "sns.heatmap(corrMat, cmap=\"Blues\")"
   ]
  },
  {
   "cell_type": "markdown",
   "metadata": {},
   "source": [
    "* Darker blue colors show positive relationships and light blue colors indicate more negative relationships."
   ]
  },
  {
   "cell_type": "code",
   "execution_count": 80,
   "metadata": {},
   "outputs": [
    {
     "name": "stdout",
     "output_type": "stream",
     "text": [
      "                                LIMIT_BAL          SEX     EDUCATION  \\\n",
      "LIMIT_BAL                    1.683446e+10  1571.050630 -23185.367949   \n",
      "SEX                          1.571051e+03     0.239247      0.002902   \n",
      "EDUCATION                   -2.318537e+04     0.002902      0.530692   \n",
      "MARRIAGE                    -7.323670e+03    -0.008014     -0.055784   \n",
      "AGE                          6.946845e+03    -0.023955      0.086976   \n",
      "Sep_Status                  -3.954593e+04    -0.031685      0.108094   \n",
      "Aug_Status                  -4.603765e+04    -0.041442      0.135258   \n",
      "July_Status                 -4.443225e+04    -0.038694      0.129518   \n",
      "June_Status                 -4.057181e+04    -0.034411      0.119395   \n",
      "May_Status                  -3.667056e+04    -0.030521      0.104004   \n",
      "April_Status                -3.509308e+04    -0.024754      0.096556   \n",
      "Sep_Bill                     2.727020e+09 -1211.694332   -417.432872   \n",
      "Aug_Bill                     2.570130e+09 -1085.595467   -451.050822   \n",
      "July_Bill                    2.548533e+09  -833.207432   -648.622244   \n",
      "June_Bill                    2.453926e+09  -688.489572   -961.849762   \n",
      "May_Bill                     2.331481e+09  -505.694333   -918.942332   \n",
      "April_Bill                   2.243837e+09  -487.430160   -661.591197   \n",
      "Sep_Paid                     4.195711e+08    -1.964266   -543.162585   \n",
      "Aug_Paid                     5.333504e+08   -15.675500   -699.624262   \n",
      "July_Paid                    4.801180e+08   -74.034812   -774.995179   \n",
      "June_Paid                    4.131202e+08   -17.080110   -486.109516   \n",
      "May_Paid                     4.305657e+08   -12.458809   -569.434250   \n",
      "April_Paid                   5.065153e+08   -24.051885   -724.223542   \n",
      "Default_Payment_Next_Month  -8.267552e+03    -0.008113      0.019861   \n",
      "\n",
      "                                MARRIAGE          AGE    Sep_Status  \\\n",
      "LIMIT_BAL                   -7323.669658  6946.844889 -39545.930009   \n",
      "SEX                            -0.008014    -0.023955     -0.031685   \n",
      "EDUCATION                      -0.055784     0.086976      0.108094   \n",
      "MARRIAGE                        0.272452    -0.126348      0.011683   \n",
      "AGE                            -0.126348     0.412416     -0.013213   \n",
      "Sep_Status                      0.011683    -0.013213      1.262930   \n",
      "Aug_Status                      0.015122    -0.022416      0.904330   \n",
      "July_Status                     0.020421    -0.025209      0.772384   \n",
      "June_Status                     0.020213    -0.022851      0.707972   \n",
      "May_Status                      0.021074    -0.024789      0.648743   \n",
      "April_Status                    0.020616    -0.021719      0.613292   \n",
      "Sep_Bill                     -902.154685  1697.757886  15480.304170   \n",
      "Aug_Bill                     -802.517866  1575.316459  15185.916919   \n",
      "July_Bill                    -901.679085  1465.479299  14011.556537   \n",
      "June_Bill                    -783.881599  1280.206219  12950.248389   \n",
      "May_Bill                     -805.840875  1125.541304  12341.668685   \n",
      "April_Bill                   -659.223347  1036.823455  11844.759724   \n",
      "Sep_Paid                      -51.691615   186.314862  -1475.495089   \n",
      "Aug_Paid                      -97.327974   148.117345  -1815.138407   \n",
      "July_Paid                     -32.546082   172.590433  -1396.168258   \n",
      "June_Paid                    -103.518204    75.585287  -1126.847945   \n",
      "May_Paid                       -9.607709    82.666584   -999.107730   \n",
      "April_Paid                    -61.623271    42.094806  -1172.193614   \n",
      "Default_Payment_Next_Month     -0.005273     0.006674      0.151499   \n",
      "\n",
      "                               Aug_Status   July_Status   June_Status  \\\n",
      "LIMIT_BAL                   -46037.648360 -44432.253315 -40571.811859   \n",
      "SEX                             -0.041442     -0.038694     -0.034411   \n",
      "EDUCATION                        0.135258      0.129518      0.119395   \n",
      "MARRIAGE                         0.015122      0.020421      0.020213   \n",
      "AGE                             -0.022416     -0.025209     -0.022851   \n",
      "Sep_Status                       0.904330      0.772384      0.707972   \n",
      "Aug_Status                       1.433254      1.098371      0.926680   \n",
      "July_Status                      1.098371      1.432492      1.087761   \n",
      "June_Status                      0.926680      1.087761      1.366885   \n",
      "May_Status                       0.844886      0.931455      1.086161   \n",
      "April_Status                     0.792320      0.870815      0.963263   \n",
      "Sep_Bill                     20706.614217  18373.210469  17460.198259   \n",
      "Aug_Bill                     20045.829482  20214.071495  18790.627741   \n",
      "July_Bill                    18609.510991  18882.491544  19862.999426   \n",
      "June_Bill                    17116.298983  17494.100555  18496.423186   \n",
      "May_Bill                     16110.952468  16382.947539  17265.551898   \n",
      "April_Bill                   15642.875812  15847.089648  16651.586314   \n",
      "Sep_Paid                     -1600.240756     25.668468   -181.295613   \n",
      "Aug_Paid                     -1627.192336  -1841.952825    -52.358166   \n",
      "July_Paid                    -1178.331282  -1123.428782  -1425.205189   \n",
      "June_Paid                     -878.843879   -863.762183   -796.035739   \n",
      "May_Paid                      -678.468530   -655.796002   -599.991629   \n",
      "April_Paid                    -776.835035   -763.026041   -552.137338   \n",
      "Default_Payment_Next_Month       0.130960      0.116867      0.105115   \n",
      "\n",
      "                               May_Status  ...     June_Bill      May_Bill  \\\n",
      "LIMIT_BAL                   -36670.562325  ...  2.453926e+09  2.331481e+09   \n",
      "SEX                             -0.030521  ... -6.884896e+02 -5.056943e+02   \n",
      "EDUCATION                        0.104004  ... -9.618498e+02 -9.189423e+02   \n",
      "MARRIAGE                         0.021074  ... -7.838816e+02 -8.058409e+02   \n",
      "AGE                             -0.024789  ...  1.280206e+03  1.125541e+03   \n",
      "Sep_Status                       0.648743  ...  1.295025e+04  1.234167e+04   \n",
      "Aug_Status                       0.844886  ...  1.711630e+04  1.611095e+04   \n",
      "July_Status                      0.931455  ...  1.749410e+04  1.638295e+04   \n",
      "June_Status                      1.086161  ...  1.849642e+04  1.726555e+04   \n",
      "May_Status                       1.284114  ...  1.982293e+04  1.858659e+04   \n",
      "April_Status                     1.064545  ...  1.970555e+04  2.033812e+04   \n",
      "Sep_Bill                     17246.377531  ...  4.075286e+09  3.714795e+09   \n",
      "Aug_Bill                     18301.285286  ...  4.086508e+09  3.720401e+09   \n",
      "July_Bill                    19122.663330  ...  4.122238e+09  3.726780e+09   \n",
      "June_Bill                    19822.925512  ...  4.138716e+09  3.677105e+09   \n",
      "May_Bill                     18586.590324  ...  3.677105e+09  3.696294e+09   \n",
      "April_Bill                   17715.690075  ...  3.451762e+09  3.425914e+09   \n",
      "Sep_Paid                      -114.281714  ...  2.482888e+08  2.185501e+08   \n",
      "Aug_Paid                       -83.324487  ...  3.076686e+08  2.538936e+08   \n",
      "July_Paid                      180.812142  ...  3.398374e+08  2.700805e+08   \n",
      "June_Paid                    -1034.961970  ...  1.312133e+08  2.791830e+08   \n",
      "May_Paid                      -577.161017  ...  1.576892e+08  1.315051e+08   \n",
      "April_Paid                    -463.892613  ...  2.031590e+08  1.774537e+08   \n",
      "Default_Payment_Next_Month       0.096020  ... -2.711999e+02 -1.705974e+02   \n",
      "\n",
      "                               April_Bill      Sep_Paid      Aug_Paid  \\\n",
      "LIMIT_BAL                    2.243837e+09  4.195711e+08  5.333504e+08   \n",
      "SEX                         -4.874302e+02 -1.964266e+00 -1.567550e+01   \n",
      "EDUCATION                   -6.615912e+02 -5.431626e+02 -6.996243e+02   \n",
      "MARRIAGE                    -6.592233e+02 -5.169161e+01 -9.732797e+01   \n",
      "AGE                          1.036823e+03  1.863149e+02  1.481173e+02   \n",
      "Sep_Status                   1.184476e+04 -1.475495e+03 -1.815138e+03   \n",
      "Aug_Status                   1.564288e+04 -1.600241e+03 -1.627192e+03   \n",
      "July_Status                  1.584709e+04  2.566847e+01 -1.841953e+03   \n",
      "June_Status                  1.665159e+04 -1.812956e+02 -5.235817e+01   \n",
      "May_Status                   1.771569e+04 -1.142817e+02 -8.332449e+01   \n",
      "April_Status                 1.952488e+04 -2.850067e+01 -1.383995e+02   \n",
      "Sep_Bill                     3.519876e+09  1.710894e+08  1.685692e+08   \n",
      "Aug_Bill                     3.524868e+09  3.305146e+08  1.653859e+08   \n",
      "July_Bill                    3.524247e+09  2.806565e+08  5.064226e+08   \n",
      "June_Bill                    3.451762e+09  2.482888e+08  3.076686e+08   \n",
      "May_Bill                     3.425914e+09  2.185501e+08  2.538936e+08   \n",
      "April_Bill                   3.546692e+09  1.972478e+08  2.369244e+08   \n",
      "Sep_Paid                     1.972478e+08  2.743423e+08  1.089849e+08   \n",
      "Aug_Paid                     2.369244e+08  1.089849e+08  5.308817e+08   \n",
      "July_Paid                    2.451233e+08  7.354626e+07  9.929841e+07   \n",
      "June_Paid                    2.334670e+08  5.178189e+07  6.501168e+07   \n",
      "May_Paid                     2.799982e+08  3.756893e+07  6.368414e+07   \n",
      "April_Paid                   1.222761e+08  5.469033e+07  6.456816e+07   \n",
      "Default_Payment_Next_Month  -1.327963e+02 -5.013746e+02 -5.602107e+02   \n",
      "\n",
      "                                July_Paid     June_Paid      May_Paid  \\\n",
      "LIMIT_BAL                    4.801180e+08  4.131202e+08  4.305657e+08   \n",
      "SEX                         -7.403481e+01 -1.708011e+01 -1.245881e+01   \n",
      "EDUCATION                   -7.749952e+02 -4.861095e+02 -5.694343e+02   \n",
      "MARRIAGE                    -3.254608e+01 -1.035182e+02 -9.607709e+00   \n",
      "AGE                          1.725904e+02  7.558529e+01  8.266658e+01   \n",
      "Sep_Status                  -1.396168e+03 -1.126848e+03 -9.991077e+02   \n",
      "Aug_Status                  -1.178331e+03 -8.788439e+02 -6.784685e+02   \n",
      "July_Status                 -1.123429e+03 -8.637622e+02 -6.557960e+02   \n",
      "June_Status                 -1.425205e+03 -7.960357e+02 -5.999916e+02   \n",
      "May_Status                   1.808121e+02 -1.034962e+03 -5.771610e+02   \n",
      "April_Status                 1.181210e+02  3.426237e+02 -8.158327e+02   \n",
      "Sep_Bill                     2.034048e+08  1.826164e+08  1.879091e+08   \n",
      "Aug_Bill                     1.888731e+08  1.643518e+08  1.717652e+08   \n",
      "July_Bill                    1.587478e+08  1.558003e+08  1.904126e+08   \n",
      "June_Bill                    3.398374e+08  1.312133e+08  1.576892e+08   \n",
      "May_Bill                     2.700805e+08  2.791830e+08  1.315051e+08   \n",
      "April_Bill                   2.451233e+08  2.334670e+08  2.799982e+08   \n",
      "Sep_Paid                     7.354626e+07  5.178189e+07  3.756893e+07   \n",
      "Aug_Paid                     9.929841e+07  6.501168e+07  6.368414e+07   \n",
      "July_Paid                    3.100051e+08  5.966970e+07  4.282921e+07   \n",
      "June_Paid                    5.966970e+07  2.454286e+08  3.634098e+07   \n",
      "May_Paid                     4.282921e+07  3.634098e+07  2.334266e+08   \n",
      "April_Paid                   5.093879e+07  4.395747e+07  4.207110e+07   \n",
      "Default_Payment_Next_Month  -4.110763e+02 -3.695159e+02 -3.495625e+02   \n",
      "\n",
      "                               April_Paid  Default_Payment_Next_Month   \n",
      "LIMIT_BAL                    5.065153e+08                 -8267.551759  \n",
      "SEX                         -2.405188e+01                    -0.008113  \n",
      "EDUCATION                   -7.242235e+02                     0.019861  \n",
      "MARRIAGE                    -6.162327e+01                    -0.005273  \n",
      "AGE                          4.209481e+01                     0.006674  \n",
      "Sep_Status                  -1.172194e+03                     0.151499  \n",
      "Aug_Status                  -7.768350e+02                     0.130960  \n",
      "July_Status                 -7.630260e+02                     0.116867  \n",
      "June_Status                 -5.521373e+02                     0.105115  \n",
      "May_Status                  -4.638926e+02                     0.096020  \n",
      "April_Status                -5.172163e+02                     0.089194  \n",
      "Sep_Bill                     2.347681e+08                  -600.394108  \n",
      "Aug_Bill                     2.204845e+08                  -419.289137  \n",
      "July_Bill                    2.247817e+08                  -405.153680  \n",
      "June_Bill                    2.031590e+08                  -271.199885  \n",
      "May_Bill                     1.774537e+08                  -170.597447  \n",
      "April_Bill                   1.222761e+08                  -132.796294  \n",
      "Sep_Paid                     5.469033e+07                  -501.374552  \n",
      "Aug_Paid                     6.456816e+07                  -560.210740  \n",
      "July_Paid                    5.093879e+07                  -411.076284  \n",
      "June_Paid                    4.395747e+07                  -369.515887  \n",
      "May_Paid                     4.207110e+07                  -349.562530  \n",
      "April_Paid                   3.160383e+08                  -392.426415  \n",
      "Default_Payment_Next_Month  -3.924264e+02                     0.172276  \n",
      "\n",
      "[24 rows x 24 columns]\n"
     ]
    }
   ],
   "source": [
    "# To calculate the covariance in Pandas\n",
    "covMat = credit.cov()\n",
    "print(covMat)"
   ]
  },
  {
   "cell_type": "code",
   "execution_count": 92,
   "metadata": {},
   "outputs": [
    {
     "data": {
      "text/plain": [
       "<matplotlib.axes._subplots.AxesSubplot at 0x25c388a2ec8>"
      ]
     },
     "execution_count": 92,
     "metadata": {},
     "output_type": "execute_result"
    },
    {
     "data": {
      "image/png": "[encoded data removed]",
      "text/plain": [
       "<Figure size 720x360 with 2 Axes>"
      ]
     },
     "metadata": {
      "needs_background": "light"
     },
     "output_type": "display_data"
    }
   ],
   "source": [
    "# Use heatmap to find out the relationship in each variance\n",
    "plt.figure(figsize = (10,5))\n",
    "sns.heatmap(covMat, cmap='Blues')"
   ]
  },
  {
   "cell_type": "markdown",
   "metadata": {},
   "source": [
    "* Covariance Heatmap doesn't show obvious relationship of indivudual variable associated with the default payment next month."
   ]
  },
  {
   "cell_type": "markdown",
   "metadata": {},
   "source": [
    "# Factors Affecting Default\n",
    "## Gender Factor"
   ]
  },
  {
   "cell_type": "code",
   "execution_count": 164,
   "metadata": {},
   "outputs": [
    {
     "data": {
      "text/plain": [
       "SEX  Default_Payment_Next_Month \n",
       "1    0                               9015\n",
       "     1                               2873\n",
       "2    0                              14349\n",
       "     1                               3763\n",
       "Name: SEX, dtype: int64"
      ]
     },
     "execution_count": 164,
     "metadata": {},
     "output_type": "execute_result"
    }
   ],
   "source": [
    "# Number of clients who are default grouped by sex \n",
    "credit.groupby(['SEX', 'Default_Payment_Next_Month '])['SEX'].count()"
   ]
  },
  {
   "cell_type": "markdown",
   "metadata": {},
   "source": [
    "* Male: 24% default rate, female: 21% default rate"
   ]
  },
  {
   "cell_type": "code",
   "execution_count": 165,
   "metadata": {},
   "outputs": [
    {
     "data": {
      "text/plain": [
       "<seaborn.axisgrid.FacetGrid at 0x27ac0610c08>"
      ]
     },
     "execution_count": 165,
     "metadata": {},
     "output_type": "execute_result"
    },
    {
     "data": {
      "image/png": "[encoded data removed]",
      "text/plain": [
       "<Figure size 521.5x360 with 1 Axes>"
      ]
     },
     "metadata": {
      "needs_background": "light"
     },
     "output_type": "display_data"
    }
   ],
   "source": [
    "# Again use seaborn to group by Sex and Default   0=not default, 1=default\n",
    "d= sns.catplot('SEX', data=credit, hue='Default_Payment_Next_Month ', kind='count')\n",
    "d.set_xlabels('SEX')"
   ]
  },
  {
   "cell_type": "markdown",
   "metadata": {},
   "source": [
    "* Male clients have a higher default rate than female clients"
   ]
  },
  {
   "cell_type": "markdown",
   "metadata": {},
   "source": [
    "# Marital Factor"
   ]
  },
  {
   "cell_type": "code",
   "execution_count": 166,
   "metadata": {},
   "outputs": [
    {
     "data": {
      "text/plain": [
       "<seaborn.axisgrid.FacetGrid at 0x27ac0716fc8>"
      ]
     },
     "execution_count": 166,
     "metadata": {},
     "output_type": "execute_result"
    },
    {
     "data": {
      "image/png": "[encoded data removed]",
      "text/plain": [
       "<Figure size 521.5x360 with 1 Axes>"
      ]
     },
     "metadata": {
      "needs_background": "light"
     },
     "output_type": "display_data"
    }
   ],
   "source": [
    "# Again use seaborn to group by Sex and Default   0=not default, 1=default\n",
    "d= sns.catplot('MARRIAGE', data=credit, hue='Default_Payment_Next_Month ', kind='count')\n",
    "d.set_xlabels('MARRIAGE')"
   ]
  },
  {
   "cell_type": "markdown",
   "metadata": {},
   "source": [
    "* Marital Factor is close to even split on default in married and single \n",
    "* There is a significant trend of not default amoung single\n",
    "* However, there is little default tendency among divorced people"
   ]
  },
  {
   "cell_type": "code",
   "execution_count": 167,
   "metadata": {},
   "outputs": [
    {
     "data": {
      "image/png": "[encoded data removed]",
      "text/plain": [
       "<Figure size 432x288 with 1 Axes>"
      ]
     },
     "metadata": {
      "needs_background": "light"
     },
     "output_type": "display_data"
    }
   ],
   "source": [
    "# Marital Status Factor   0=Others, 1=Married, 2=Single, 3=Divorce\n",
    "sns.pointplot('MARRIAGE', 'Default_Payment_Next_Month ', data=credit, scale=1.3, \n",
    "              errwidth=4, color=\"xkcd:red\")\n",
    "g.set(ylim=(0, 1))\n",
    "sns.despine(fig=g.fig, left=True)"
   ]
  },
  {
   "cell_type": "markdown",
   "metadata": {},
   "source": [
    "* Customers who are married or divorced are more likely to default than customers who are single"
   ]
  },
  {
   "cell_type": "markdown",
   "metadata": {},
   "source": [
    "# Age Factor"
   ]
  },
  {
   "cell_type": "code",
   "execution_count": 168,
   "metadata": {},
   "outputs": [
    {
     "data": {
      "text/plain": [
       "<seaborn.axisgrid.FacetGrid at 0x27ac08dad48>"
      ]
     },
     "execution_count": 168,
     "metadata": {},
     "output_type": "execute_result"
    },
    {
     "data": {
      "image/png": "[encoded data removed]",
      "text/plain": [
       "<Figure size 427.25x360 with 1 Axes>"
      ]
     },
     "metadata": {
      "needs_background": "light"
     },
     "output_type": "display_data"
    }
   ],
   "source": [
    "# Linear plot of age vs. default payment next month\n",
    "g=sns.lmplot(x='AGE', y='Default_Payment_Next_Month ', data=credit, hue='EDUCATION')\n",
    "g.set(xlim=(0.80), ylim=(0,0.4))"
   ]
  },
  {
   "cell_type": "markdown",
   "metadata": {},
   "source": [
    "* Other education level has the lowest chance of default payment next month especially for younger generation\n",
    "* For those have graduate education level tend to have lower default rate than university and high school graduate\n",
    "* High school graduates seem has a flat line which shows no obvious relationship between age and default rate, but its default probability is the greatest among all four education groups "
   ]
  },
  {
   "cell_type": "markdown",
   "metadata": {},
   "source": [
    "# Education Factor"
   ]
  },
  {
   "cell_type": "code",
   "execution_count": 169,
   "metadata": {},
   "outputs": [
    {
     "data": {
      "image/png": "[encoded data removed]",
      "text/plain": [
       "<Figure size 402.375x360 with 1 Axes>"
      ]
     },
     "metadata": {
      "needs_background": "light"
     },
     "output_type": "display_data"
    }
   ],
   "source": [
    "# Default Vs. Education grouped by gender\n",
    "pl = sns.catplot(x='EDUCATION', y='Default_Payment_Next_Month ', hue='SEX', data=credit, kind='point')"
   ]
  },
  {
   "cell_type": "markdown",
   "metadata": {},
   "source": [
    "* Males have a higher default probability than females. \n",
    "* People with lower education level are more likely to default than those with higher education level."
   ]
  },
  {
   "cell_type": "code",
   "execution_count": 170,
   "metadata": {},
   "outputs": [
    {
     "data": {
      "image/png": "[encoded data removed]",
      "text/plain": [
       "<Figure size 402.375x360 with 1 Axes>"
      ]
     },
     "metadata": {
      "needs_background": "light"
     },
     "output_type": "display_data"
    }
   ],
   "source": [
    "# Default Vs. Education grouped by gender using linear plot\n",
    "pl = sns.lmplot(x='EDUCATION', y='Default_Payment_Next_Month ', hue='SEX', data=credit, palette='winter')"
   ]
  },
  {
   "cell_type": "markdown",
   "metadata": {},
   "source": [
    "# Credit Limit Factor"
   ]
  },
  {
   "cell_type": "code",
   "execution_count": 171,
   "metadata": {
    "scrolled": true
   },
   "outputs": [
    {
     "data": {
      "text/plain": [
       "Text(0.5, 1.0, 'Distribution of Credit Limit')"
      ]
     },
     "execution_count": 171,
     "metadata": {},
     "output_type": "execute_result"
    },
    {
     "data": {
      "image/png": "[encoded data removed]",
      "text/plain": [
       "<Figure size 432x288 with 1 Axes>"
      ]
     },
     "metadata": {
      "needs_background": "light"
     },
     "output_type": "display_data"
    }
   ],
   "source": [
    "# Distribution of credit limit, with an overlay of a density plot\n",
    "credit_dist = sns.distplot(credit['LIMIT_BAL'])\n",
    "credit_dist.set_title(\"Distribution of Credit Limit\")"
   ]
  },
  {
   "cell_type": "code",
   "execution_count": 172,
   "metadata": {
    "scrolled": true
   },
   "outputs": [
    {
     "data": {
      "text/plain": [
       "<seaborn.axisgrid.FacetGrid at 0x27ac0bd64c8>"
      ]
     },
     "execution_count": 172,
     "metadata": {},
     "output_type": "execute_result"
    },
    {
     "data": {
      "image/png": "[encoded data removed]",
      "text/plain": [
       "<Figure size 1025.5x216 with 1 Axes>"
      ]
     },
     "metadata": {
      "needs_background": "light"
     },
     "output_type": "display_data"
    }
   ],
   "source": [
    "fig = sns.FacetGrid(credit, hue='Default_Payment_Next_Month ', aspect=4)\n",
    "fig.map(sns.kdeplot, 'LIMIT_BAL', shade=True)\n",
    "maximum = credit['LIMIT_BAL'].max()\n",
    "fig.set(xlim=(0,maximum))\n",
    "fig.set(title='Distribution of Credit Limit Grouped by Default')\n",
    "fig.add_legend()"
   ]
  },
  {
   "cell_type": "markdown",
   "metadata": {},
   "source": [
    "* Clients with lower credit limit are more likely to default"
   ]
  },
  {
   "cell_type": "code",
   "execution_count": 174,
   "metadata": {},
   "outputs": [],
   "source": [
    "credit.to_csv(\"new_credit.csv\")"
   ]
  },
  {
   "cell_type": "code",
   "execution_count": null,
   "metadata": {},
   "outputs": [],
   "source": []
  }
 ],
 "metadata": {
  "kernelspec": {
   "display_name": "Python 3",
   "language": "python",
   "name": "python3"
  },
  "language_info": {
   "codemirror_mode": {
    "name": "ipython",
    "version": 3
   },
   "file_extension": ".py",
   "mimetype": "text/x-python",
   "name": "python",
   "nbconvert_exporter": "python",
   "pygments_lexer": "ipython3",
   "version": "3.7.4"
  }
 },
 "nbformat": 4,
 "nbformat_minor": 2
}
